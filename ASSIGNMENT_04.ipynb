{
  "nbformat": 4,
  "nbformat_minor": 0,
  "metadata": {
    "colab": {
      "provenance": [],
      "include_colab_link": true
    },
    "kernelspec": {
      "name": "python3",
      "display_name": "Python 3"
    },
    "language_info": {
      "name": "python"
    }
  },
  "cells": [
    {
      "cell_type": "markdown",
      "metadata": {
        "id": "view-in-github",
        "colab_type": "text"
      },
      "source": [
        "<a href=\"https://colab.research.google.com/github/Mashrur001/CSE110/blob/main/ASSIGNMENT_04.ipynb\" target=\"_parent\"><img src=\"https://colab.research.google.com/assets/colab-badge.svg\" alt=\"Open In Colab\"/></a>"
      ]
    },
    {
      "cell_type": "markdown",
      "source": [
        "# **Lists**\n",
        "List is a sequence of values called items or elements."
      ],
      "metadata": {
        "id": "f3NIf48GHILy"
      }
    },
    {
      "cell_type": "code",
      "source": [
        "#Creation\n",
        "\n",
        "#A list is created by placing all the elements inside a square bracket [ ], separated by commas.\n",
        "games = ['football', 'cricket']\n",
        "print(games)\n",
        "\n",
        "#can have mixed data types\n",
        "name_age_cg = ['Harry', 23, 3.2, 'Ron', 24, 3.1]\n",
        "print(name_age_cg)\n",
        "\n",
        "#can be created with list constructor\n",
        "brands = list(['BMW', 'PORSCHE', 'FORD'])\n",
        "print(brands)\n",
        "\n",
        "print(len(brands))"
      ],
      "metadata": {
        "colab": {
          "base_uri": "https://localhost:8080/"
        },
        "id": "bYurqlViHQc2",
        "outputId": "640771dd-5b7c-4870-b879-137e769c45f8"
      },
      "execution_count": null,
      "outputs": [
        {
          "output_type": "stream",
          "name": "stdout",
          "text": [
            "['football', 'cricket']\n",
            "['Harry', 23, 3.2, 'Ron', 24, 3.1]\n",
            "['BMW', 'PORSCHE', 'FORD']\n",
            "3\n"
          ]
        }
      ]
    },
    {
      "cell_type": "code",
      "source": [
        "#Indexing & Accessing Items\n",
        "\n",
        "#both positive and negative indexing\n",
        "games = ['Football', 'Cricket', 'Badminton', 'BasketBall']\n",
        "print(games[-1]) #last element\n",
        "print(games[2])\n",
        "#print(games[4]) #IndexError"
      ],
      "metadata": {
        "colab": {
          "base_uri": "https://localhost:8080/"
        },
        "id": "E9ik_Xi-IpNh",
        "outputId": "37f9c17b-eb39-4b5f-d206-4cc63fd0a9b5"
      },
      "execution_count": null,
      "outputs": [
        {
          "output_type": "stream",
          "name": "stdout",
          "text": [
            "BasketBall\n",
            "Badminton\n"
          ]
        }
      ]
    },
    {
      "cell_type": "code",
      "source": [
        "#Mutability\n",
        "\n",
        "games = ['Football', 'Cricket', 'Badminton', 'BasketBall']\n",
        "print(games)\n",
        "\n",
        "games[2]= 'Hockey'\n",
        "print(games) #check the index 2 element"
      ],
      "metadata": {
        "colab": {
          "base_uri": "https://localhost:8080/"
        },
        "id": "L0edkwJwJbpj",
        "outputId": "15e71685-c6a0-4d03-f132-fe54b64e5fdf"
      },
      "execution_count": null,
      "outputs": [
        {
          "output_type": "stream",
          "name": "stdout",
          "text": [
            "['Football', 'Cricket', 'Badminton', 'BasketBall']\n",
            "['Football', 'Cricket', 'Hockey', 'BasketBall']\n"
          ]
        }
      ]
    },
    {
      "cell_type": "code",
      "source": [
        "#Adding items in list\n",
        "\n",
        "series = ['Dark', 'Stranger Things', 'FRIENDS', 'Game of Thrones']\n",
        "series.append('Sherlock') #append(value) function adds new items to the end of list\n",
        "print(series)\n",
        "\n",
        "series.insert(2, 'Breaking Bad') #insert(index, value) adds the element into specific index\n",
        "print(series)"
      ],
      "metadata": {
        "colab": {
          "base_uri": "https://localhost:8080/"
        },
        "id": "jkFGiPljKGm4",
        "outputId": "9e1f48ab-2140-4230-a766-13ad8da0f0b0"
      },
      "execution_count": null,
      "outputs": [
        {
          "output_type": "stream",
          "name": "stdout",
          "text": [
            "['Dark', 'Stranger Things', 'FRIENDS', 'Game of Thrones', 'Sherlock']\n",
            "['Dark', 'Stranger Things', 'Breaking Bad', 'FRIENDS', 'Game of Thrones', 'Sherlock']\n"
          ]
        }
      ]
    },
    {
      "cell_type": "code",
      "source": [
        "#Removing items\n",
        "\n",
        "#pop(index)\n",
        "series = ['Dark', 'Stranger Things', 'FRIENDS', 'Game of Thrones']\n",
        "series.pop(1) #removes specific index element\n",
        "print(series)\n",
        "\n",
        "#pop()\n",
        "games = ['Football', 'Cricket', 'Badminton', 'BasketBall']\n",
        "games.pop() #removes last element from a list\n",
        "print(games)\n",
        "\n",
        "#remove(value)\n",
        "mobiles = ['OnePlus', 'iPhone', 'Samsung', 'HTC', 'Nokia', 'HTC']\n",
        "mobiles.remove('HTC') #removes first occurrence of the specified value from left\n",
        "print(mobiles)\n",
        "\n",
        "#del keyword\n",
        "del mobiles[0]\n",
        "print(mobiles)\n",
        "#del mobiles\n",
        "#print(mobiles)\n",
        "\n",
        "#clear()\n",
        "mobiles.clear() #delete all elements\n",
        "print(mobiles)\n",
        "print(len(mobiles))"
      ],
      "metadata": {
        "colab": {
          "base_uri": "https://localhost:8080/"
        },
        "id": "kOHNeijbLIzq",
        "outputId": "7ad3783f-df9e-492c-f212-e18cd090e69a"
      },
      "execution_count": null,
      "outputs": [
        {
          "output_type": "stream",
          "name": "stdout",
          "text": [
            "['Dark', 'FRIENDS', 'Game of Thrones']\n",
            "['Football', 'Cricket', 'Badminton']\n",
            "['OnePlus', 'iPhone', 'Samsung', 'Nokia', 'HTC']\n",
            "['iPhone', 'Samsung', 'Nokia', 'HTC']\n",
            "[]\n",
            "0\n"
          ]
        }
      ]
    },
    {
      "cell_type": "code",
      "source": [
        "#Copy a list\n",
        "\n",
        "series = ['Dark', 'Stranger Things', 'FRIENDS', 'Game of Thrones']\n",
        "\n",
        "fav_series = series.copy() #crates a new list copying the value from specified list\n",
        "print(fav_series)"
      ],
      "metadata": {
        "colab": {
          "base_uri": "https://localhost:8080/"
        },
        "id": "yXACSrxMM1hF",
        "outputId": "819e233c-b67b-4a36-aef0-73916deec5a0"
      },
      "execution_count": null,
      "outputs": [
        {
          "output_type": "stream",
          "name": "stdout",
          "text": [
            "['Dark', 'Stranger Things', 'FRIENDS', 'Game of Thrones']\n"
          ]
        }
      ]
    },
    {
      "cell_type": "code",
      "source": [
        "#Joining lists\n",
        "\n",
        "#\"+\" operator\n",
        "fantasy_series = ['Dark', 'Stranger Things']\n",
        "sitcom = ['FRIENDS', 'HIMYM', 'The Office']\n",
        "print(id(fantasy_series)) #memory loc\n",
        "series = fantasy_series + sitcom  #a new list is created\n",
        "print(series)\n",
        "#fantasy_series += sitcom\n",
        "#print(id(fantasy_series))\n",
        "fantasy_series = fantasy_series + sitcom\n",
        "print(id(fantasy_series))\n",
        "#print(fantasy_series)\n",
        "\n",
        "#extend(list) function\n",
        "games = ['football', 'cricket']\n",
        "indoor_games = ['chess', 'table tennis']\n",
        "games.extend(indoor_games) #adding the list into the caller list\n",
        "print(games)"
      ],
      "metadata": {
        "colab": {
          "base_uri": "https://localhost:8080/"
        },
        "id": "DC6jZLRINZGm",
        "outputId": "cbab4981-db2d-4a32-cd8d-e80b791ef569"
      },
      "execution_count": null,
      "outputs": [
        {
          "output_type": "stream",
          "name": "stdout",
          "text": [
            "139952610158592\n",
            "['Dark', 'Stranger Things', 'FRIENDS', 'HIMYM', 'The Office']\n",
            "139952610070080\n",
            "['football', 'cricket', 'chess', 'table tennis']\n"
          ]
        }
      ]
    },
    {
      "cell_type": "code",
      "source": [
        "#List Slicing\n",
        "\n",
        "series = ['Dark', 'Stranger Things', 'FRIENDS', 'Game of Thrones', 'Sherlock', 'The Big Bang Theory']\n",
        "olpo_series = series[1:4] # a new list from the slice of old list\n",
        "print(olpo_series)\n",
        "\n",
        "print(series[:4])\n",
        "print(series[-4:-1])"
      ],
      "metadata": {
        "colab": {
          "base_uri": "https://localhost:8080/"
        },
        "id": "m5KDibPcOgdO",
        "outputId": "f85fea8b-eba5-49c3-9690-a083cd495d81"
      },
      "execution_count": null,
      "outputs": [
        {
          "output_type": "stream",
          "name": "stdout",
          "text": [
            "['Stranger Things', 'FRIENDS', 'Game of Thrones']\n",
            "['Dark', 'Stranger Things', 'FRIENDS', 'Game of Thrones']\n",
            "['FRIENDS', 'Game of Thrones', 'Sherlock']\n"
          ]
        }
      ]
    },
    {
      "cell_type": "code",
      "source": [
        "#List Functions\n",
        "\n",
        "#sort()\n",
        "ages = [30, 12, 76, 19]\n",
        "ages.sort()\n",
        "print(ages)\n",
        "\n",
        "#reverse()\n",
        "series = ['Dark', 'Stranger Things', 'FRIENDS', 'Game of Thrones']\n",
        "series.reverse()\n",
        "print(series)\n",
        "\n",
        "#index(value)\n",
        "series = ['Dark', 'Stranger Things', 'FRIENDS', 'Game of Thrones', 'Dark']\n",
        "print(series.index('Dark'))#Returns integer index of first (leftmost) occurrence of value in the list\n",
        "\n",
        "#count(value)\n",
        "print(series.count('Dark')) #Returns integer count of number ofoccurrences of value in list"
      ],
      "metadata": {
        "colab": {
          "base_uri": "https://localhost:8080/"
        },
        "id": "Og8vSAP9PbfX",
        "outputId": "a0a93739-40fe-4829-9663-fb3f755f1ef7"
      },
      "execution_count": null,
      "outputs": [
        {
          "output_type": "stream",
          "name": "stdout",
          "text": [
            "[12, 19, 30, 76]\n",
            "['Game of Thrones', 'FRIENDS', 'Stranger Things', 'Dark']\n",
            "0\n",
            "2\n"
          ]
        }
      ]
    },
    {
      "cell_type": "code",
      "source": [
        "#Iterating a list\n",
        "\n",
        "series = ['Dark', 'Stranger Things', 'FRIENDS', 'Game of Thrones']\n",
        "for i in series:\n",
        "    print(i, end =' ')\n",
        "\n",
        "print('\\n')\n",
        "\n",
        "#range()\n",
        "for idx in range(len(series)):\n",
        "    print(series[idx], end = ' ') #idx = 0"
      ],
      "metadata": {
        "colab": {
          "base_uri": "https://localhost:8080/"
        },
        "id": "6vZ8NWCnQ30e",
        "outputId": "77d2c9a2-2089-48ec-c7de-a2faf4c0f894"
      },
      "execution_count": null,
      "outputs": [
        {
          "output_type": "stream",
          "name": "stdout",
          "text": [
            "Dark Stranger Things FRIENDS Game of Thrones \n",
            "\n",
            "Dark Stranger Things FRIENDS Game of Thrones "
          ]
        }
      ]
    },
    {
      "cell_type": "code",
      "source": [
        "#Nested list\n",
        "\n",
        "name_age_cg = [['Harry', 23, 3.1], ['Ron', 27, 2.4]]\n",
        "#print(name_age_cg[0])\n",
        "# print(name_age_cg[0][0])\n",
        "# print(name_age_cg[0][1])\n",
        "# print(name_age_cg[0][2])\n",
        "#loop\n",
        "\n",
        "for i in range(len(name_age_cg)):\n",
        "    print(name_age_cg[i])\n",
        "    for j in range(len(name_age_cg[i])):\n",
        "        print(name_age_cg[i][j])\n",
        "        #print(name_age_cg[i][j])"
      ],
      "metadata": {
        "colab": {
          "base_uri": "https://localhost:8080/"
        },
        "id": "tAcLHNIQT6Bf",
        "outputId": "430c9781-b974-46fb-a62c-20da103b8ffa"
      },
      "execution_count": null,
      "outputs": [
        {
          "output_type": "stream",
          "name": "stdout",
          "text": [
            "['Harry', 23, 3.1]\n",
            "Harry\n",
            "23\n",
            "3.1\n",
            "['Ron', 27, 2.4]\n",
            "Ron\n",
            "27\n",
            "2.4\n"
          ]
        }
      ]
    },
    {
      "cell_type": "code",
      "source": [
        "#List comprehension:\n",
        "#https://www.programiz.com/python-programming/list-comprehension\n",
        "\n",
        "list1 = [1, 2, 3, 4, 5, 6]\n",
        "\n",
        "squares = []\n",
        "#using loop\n",
        "for i in list1:\n",
        "    squares.append(i*i)\n",
        "print(squares)\n",
        "\n",
        "#using list comprehension\n",
        "#[expression => for loop => condition (if any)]\n",
        "list2 = [i*i for i in list1] #[i*i for i in list1 if i%2 == 0]\n",
        "print(list2)"
      ],
      "metadata": {
        "colab": {
          "base_uri": "https://localhost:8080/"
        },
        "id": "n6z70LBvSr7o",
        "outputId": "3400f33b-d33b-4145-f44d-37be6b22bbf6"
      },
      "execution_count": null,
      "outputs": [
        {
          "output_type": "stream",
          "name": "stdout",
          "text": [
            "[1, 4, 9, 16, 25, 36]\n",
            "[1, 4, 9, 16, 25, 36]\n"
          ]
        }
      ]
    },
    {
      "cell_type": "code",
      "source": [
        "#from list to string using .join()\n",
        "items= ['I','am', 'a', 'CSE', 'Student']\n",
        "#st = str(items)\n",
        "st = ' '.join(items)\n",
        "print(st)"
      ],
      "metadata": {
        "colab": {
          "base_uri": "https://localhost:8080/"
        },
        "id": "dfkaON9DbiD7",
        "outputId": "ce5562e9-b823-45f6-9438-bd4c8f4a3d34"
      },
      "execution_count": null,
      "outputs": [
        {
          "output_type": "stream",
          "name": "stdout",
          "text": [
            "I am a CSE Student\n"
          ]
        }
      ]
    },
    {
      "cell_type": "code",
      "source": [
        "#initalizing variable inside a Loop\n",
        "\n",
        "name_list = (('Ted', 'HIMYM'), ('Ross', 'FRIENDS'), ('Chandler', 'FRIENDS'))\n",
        "friends =[]\n",
        "for items in name_list:\n",
        "    print(items)\n",
        "    #friends =[]  #Wrong\n",
        "    if items[1] == 'FRIENDS':\n",
        "        friends.append(items[0])\n",
        "\n",
        "print(friends)"
      ],
      "metadata": {
        "colab": {
          "base_uri": "https://localhost:8080/"
        },
        "id": "D3B-p5vCb_-1",
        "outputId": "9a46995a-d06a-42ff-db7b-808237da621f"
      },
      "execution_count": null,
      "outputs": [
        {
          "output_type": "stream",
          "name": "stdout",
          "text": [
            "('Ted', 'HIMYM')\n",
            "('Ross', 'FRIENDS')\n",
            "('Chandler', 'FRIENDS')\n",
            "['Chandler']\n"
          ]
        }
      ]
    },
    {
      "cell_type": "code",
      "source": [
        "#split() function\n",
        "\n",
        "info = 'Harry Potter#197#23'\n",
        "info_list = info.split('#')\n",
        "info_list[2] = int(info_list[2])\n",
        "print(info_list)\n",
        "\n",
        "info2 = 'Harry Potter#197#23'\n",
        "name, id, age = info2.split('#')\n",
        "print(name, id, age)"
      ],
      "metadata": {
        "colab": {
          "base_uri": "https://localhost:8080/"
        },
        "id": "FkxWKy71OCmW",
        "outputId": "65275ccc-6c22-4f29-83da-c11a3d4505ef"
      },
      "execution_count": null,
      "outputs": [
        {
          "output_type": "stream",
          "name": "stdout",
          "text": [
            "['Harry Potter', '197', 23]\n",
            "Harry Potter 197 23\n"
          ]
        }
      ]
    },
    {
      "cell_type": "markdown",
      "source": [
        "# **Tuples**\n",
        "A tuple is a collection of objects which is ordered and immutable."
      ],
      "metadata": {
        "id": "MUbpSdsdTmmT"
      }
    },
    {
      "cell_type": "code",
      "source": [
        "#Creation\n",
        "\n",
        "empty = ()\n",
        "print(empty)\n",
        "\n",
        "#can have mixed data types\n",
        "my_tup = (\"CSE111\", 3.9, [4,5,6], (1.1, 2.2)) #nested tuples\n",
        "print(my_tup)\n",
        "\n",
        "#tuple with a single element\n",
        "single = 12345, #must put an comma after the element\n",
        "print(single)\n",
        "\n",
        "#tuple from a list\n",
        "my_list = ['CSE', 'EEE']\n",
        "my_tuple = tuple(my_list) #tuple(['CSE', 'EEE'])\n",
        "print(my_tuple)"
      ],
      "metadata": {
        "colab": {
          "base_uri": "https://localhost:8080/"
        },
        "id": "ZeSH7qB3TljU",
        "outputId": "ba0505ba-23c1-4476-d14e-258fc6a9f623"
      },
      "execution_count": null,
      "outputs": [
        {
          "output_type": "stream",
          "name": "stdout",
          "text": [
            "()\n",
            "('CSE111', 3.9, [4, 5, 6], (1.1, 2.2))\n",
            "(12345,)\n",
            "('CSE', 'EEE')\n"
          ]
        }
      ]
    },
    {
      "cell_type": "code",
      "source": [
        "#Tuple packing & unpacking\n",
        "\n",
        "courses = 'CSE111', 3.3, 'PHY111', 3.7 #Packing\n",
        "print(courses)\n",
        "\n",
        "course1, c1_grade, course2, c2_grade = courses #Unpacking\n",
        "print(course1)\n",
        "print(c1_grade)\n",
        "print(course2)\n",
        "print(c2_grade)"
      ],
      "metadata": {
        "colab": {
          "base_uri": "https://localhost:8080/"
        },
        "id": "T-mmVXF1XPFg",
        "outputId": "aa08c8cb-8a1d-4262-fb55-52f6f0c05fdd"
      },
      "execution_count": null,
      "outputs": [
        {
          "output_type": "stream",
          "name": "stdout",
          "text": [
            "('CSE111', 3.3, 'PHY111', 3.7)\n",
            "CSE111\n",
            "3.3\n",
            "PHY111\n",
            "3.7\n"
          ]
        }
      ]
    },
    {
      "cell_type": "code",
      "source": [
        "#Accessing Elements & Slicing\n",
        "\n",
        "#allows both postive and negative indexing\n",
        "\n",
        "departments = ('CSE', 'EEE', 'BBA', 'ENH', 'ESS')\n",
        "print(departments[-1])\n",
        "print(departments[1])\n",
        "print(departments[2:4])"
      ],
      "metadata": {
        "colab": {
          "base_uri": "https://localhost:8080/"
        },
        "id": "SKeIhJVvW3mU",
        "outputId": "f0bbb675-aa0a-4400-da22-3c75efda090f"
      },
      "execution_count": null,
      "outputs": [
        {
          "output_type": "stream",
          "name": "stdout",
          "text": [
            "ESS\n",
            "EEE\n",
            "('BBA', 'ENH')\n"
          ]
        }
      ]
    },
    {
      "cell_type": "code",
      "source": [
        "#Nested Tuples\n",
        "\n",
        "name_id = (('Rowling', 1234), ('Brown', 2345), ['Hermione', 101])\n",
        "name_id[2][0] = 1000\n",
        "print(name_id[0][0])\n",
        "print(name_id[0][1])\n",
        "\n",
        "#you can update elements of any mutable element from a tuple\n",
        "name_id[2][1] = 1111\n",
        "print(name_id)"
      ],
      "metadata": {
        "colab": {
          "base_uri": "https://localhost:8080/"
        },
        "id": "XYKzwEY7YzKe",
        "outputId": "bbb1e46f-fe8d-4f54-92d0-0ebc6d9c6c83"
      },
      "execution_count": null,
      "outputs": [
        {
          "output_type": "stream",
          "name": "stdout",
          "text": [
            "Rowling\n",
            "1234\n",
            "(('Rowling', 1234), ('Brown', 2345), [1000, 1111])\n"
          ]
        }
      ]
    },
    {
      "cell_type": "code",
      "source": [
        "#Mutability\n",
        "\n",
        "#tuples are immutable\n",
        "\n",
        "#departments = ('CSE', 'EEE', 'BBA', 'ENH', 'ESS')\n",
        "#departments[1] = 'ARC' #error"
      ],
      "metadata": {
        "id": "CIi7W0EGZLiv"
      },
      "execution_count": null,
      "outputs": []
    },
    {
      "cell_type": "code",
      "source": [
        "#Conacatenation\n",
        "\n",
        "#using + operator\n",
        "\n",
        "tup1 = (1,2,3)\n",
        "tup2 = (5,8,9)\n",
        "tup3 = tup1 + tup2 # a brand new tuple!!\n",
        "print(tup3)"
      ],
      "metadata": {
        "colab": {
          "base_uri": "https://localhost:8080/"
        },
        "id": "mrL_a5J9ZcWR",
        "outputId": "6b3eaa47-edce-46c7-ea62-7c6f6f6d8dfe"
      },
      "execution_count": null,
      "outputs": [
        {
          "output_type": "stream",
          "name": "stdout",
          "text": [
            "(1, 2, 3, 5, 8, 9)\n"
          ]
        }
      ]
    },
    {
      "cell_type": "code",
      "source": [
        "#Deletion\n",
        "\n",
        "#can't delete any element\n",
        "tup1 = (1,2,3)\n",
        "#del tup1 [0] #error\n",
        "del tup1\n",
        "#print(tup1)"
      ],
      "metadata": {
        "id": "oC4_ZoPsZzvF"
      },
      "execution_count": null,
      "outputs": []
    },
    {
      "cell_type": "code",
      "source": [
        "#tuple to list conversion\n",
        "list1 = [1,2,3]\n",
        "tup1 = tuple(list1)\n",
        "print(tup1)\n",
        "\n",
        "#list to tuple\n",
        "tup2 = (2,3,4)\n",
        "list2 = list(tup2)\n",
        "print(list2)"
      ],
      "metadata": {
        "colab": {
          "base_uri": "https://localhost:8080/"
        },
        "id": "umMKLusdnskw",
        "outputId": "bfaee205-911b-40bb-ff98-9e69b5b5266a"
      },
      "execution_count": null,
      "outputs": [
        {
          "output_type": "stream",
          "name": "stdout",
          "text": [
            "(1, 2, 3)\n",
            "[2, 3, 4]\n"
          ]
        }
      ]
    },
    {
      "cell_type": "code",
      "source": [
        "#Repetion\n",
        "\n",
        "print((\"Class Shesh\",) * 10)"
      ],
      "metadata": {
        "colab": {
          "base_uri": "https://localhost:8080/"
        },
        "id": "ixpSCktMabDW",
        "outputId": "351e76d3-e489-4362-807e-fc9da7a7d79c"
      },
      "execution_count": null,
      "outputs": [
        {
          "output_type": "stream",
          "name": "stdout",
          "text": [
            "('Class Shesh', 'Class Shesh', 'Class Shesh', 'Class Shesh', 'Class Shesh', 'Class Shesh', 'Class Shesh', 'Class Shesh', 'Class Shesh', 'Class Shesh')\n"
          ]
        }
      ]
    }
  ]
}