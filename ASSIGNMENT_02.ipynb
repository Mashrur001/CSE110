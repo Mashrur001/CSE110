{
  "cells": [
    {
      "cell_type": "markdown",
      "metadata": {
        "id": "view-in-github",
        "colab_type": "text"
      },
      "source": [
        "<a href=\"https://colab.research.google.com/github/Mashrur001/CSE110/blob/main/ASSIGNMENT_02.ipynb\" target=\"_parent\"><img src=\"https://colab.research.google.com/assets/colab-badge.svg\" alt=\"Open In Colab\"/></a>"
      ]
    },
    {
      "cell_type": "code",
      "source": [
        "#Assignment 02\n",
        "#Task01\n",
        "m=int(input())\n",
        "n=int(input())\n",
        "\n",
        "print(\"Sum=\"+str(m+n))\n",
        "print(\"Product =\",m*n)\n",
        "print(\"Difference =\",m-n)"
      ],
      "metadata": {
        "id": "IzVIvEPRYBea",
        "outputId": "a3f57ffe-fc95-49c3-d3b1-3dd916c70be0",
        "colab": {
          "base_uri": "https://localhost:8080/"
        }
      },
      "execution_count": null,
      "outputs": [
        {
          "output_type": "stream",
          "name": "stdout",
          "text": [
            "4\n",
            "5\n",
            "Sum=9\n",
            "Product = 20\n",
            "Difference = -1\n"
          ]
        }
      ]
    },
    {
      "cell_type": "code",
      "source": [
        "#Taask02\n",
        "import math\n",
        "rad=int(input())\n",
        "\n",
        "area=math.pi*rad**2\n",
        "cir=2*math.pi*rad\n",
        "\n",
        "print(\"Area is\", area)\n",
        "print(\"Circumference is\",cir)"
      ],
      "metadata": {
        "id": "w8f4MMQpYBgy",
        "outputId": "85f41a76-00a3-4509-f955-7e43a2b381d9",
        "colab": {
          "base_uri": "https://localhost:8080/"
        }
      },
      "execution_count": null,
      "outputs": [
        {
          "output_type": "stream",
          "name": "stdout",
          "text": [
            "4\n",
            "Area is 50.26548245743669\n",
            "Circumference is 25.132741228718345\n"
          ]
        }
      ]
    },
    {
      "cell_type": "code",
      "source": [
        "#Task03\n",
        "m=int(input())\n",
        "n=int(input())\n",
        "\n",
        "if m>n:\n",
        "  print(\"First is greater\")\n",
        "elif n>m:\n",
        "  print(\"Second is greater\")\n",
        "else:\n",
        "  print(\"The numbers are equal\")"
      ],
      "metadata": {
        "id": "nCteyUj6YBjj",
        "outputId": "b6d09dd9-b186-4fc9-cef2-3fb69195901c",
        "colab": {
          "base_uri": "https://localhost:8080/"
        }
      },
      "execution_count": null,
      "outputs": [
        {
          "output_type": "stream",
          "name": "stdout",
          "text": [
            "-33\n",
            "-3\n",
            "Second is greater\n"
          ]
        }
      ]
    },
    {
      "cell_type": "code",
      "source": [
        "#Task04\n",
        "m=int(input())\n",
        "n=int(input())\n",
        "\n",
        "if m>n:\n",
        "  print(m-n)\n",
        "else:\n",
        "  print(n-m)"
      ],
      "metadata": {
        "id": "TpIRiJyWYBmZ",
        "colab": {
          "base_uri": "https://localhost:8080/"
        },
        "outputId": "8a2541de-a42a-4292-dd74-ef10982792f8"
      },
      "execution_count": null,
      "outputs": [
        {
          "output_type": "stream",
          "name": "stdout",
          "text": [
            "5\n",
            "5\n",
            "0\n"
          ]
        }
      ]
    },
    {
      "cell_type": "code",
      "source": [
        "#Task05\n",
        "n=int(input(\"Enter number: \"))\n",
        "\n",
        "if n%2==0:\n",
        "  print(\"The number is even\")\n",
        "else:\n",
        "  print(\"The number is odd\")"
      ],
      "metadata": {
        "id": "OofwVjeOYBpB",
        "colab": {
          "base_uri": "https://localhost:8080/"
        },
        "outputId": "606760ff-8772-4e8e-bd3e-1322db326263"
      },
      "execution_count": null,
      "outputs": [
        {
          "output_type": "stream",
          "name": "stdout",
          "text": [
            "Enter number: 10\n",
            "The number is even\n"
          ]
        }
      ]
    },
    {
      "cell_type": "code",
      "source": [
        "#Task06\n",
        "n=int(input(\"Number: \"))\n",
        "\n",
        "if (n%2==0) or (n%5==0):\n",
        "  print(n)\n",
        "else:\n",
        "  print(\"Not a multiple of 2 OR 5\")\n",
        "\n"
      ],
      "metadata": {
        "id": "ahu5QsHUYBsB",
        "colab": {
          "base_uri": "https://localhost:8080/"
        },
        "outputId": "d870d6f9-336b-4e4c-d76b-9f12a4e3c928"
      },
      "execution_count": null,
      "outputs": [
        {
          "output_type": "stream",
          "name": "stdout",
          "text": [
            "Number: 10\n",
            "10\n"
          ]
        }
      ]
    },
    {
      "cell_type": "code",
      "source": [
        "#Task07\n",
        "n=int(input(\"Number: \"))\n",
        "\n",
        "if (n%2==0) and (n%5==0):\n",
        "  print(\"Multiple of 2 and 5 both\")\n",
        "elif (n%2==0) or (n%5==0):\n",
        "  print(n)\n",
        "else:\n",
        "  print(\"Not a multiple we want\")\n"
      ],
      "metadata": {
        "id": "cxFF6RdMYBvB",
        "colab": {
          "base_uri": "https://localhost:8080/"
        },
        "outputId": "5836973d-6583-4ac1-c081-5ba608ad09bb"
      },
      "execution_count": null,
      "outputs": [
        {
          "output_type": "stream",
          "name": "stdout",
          "text": [
            "Number: 10\n",
            "Multiple of 2 and 5 both\n"
          ]
        }
      ]
    },
    {
      "cell_type": "code",
      "source": [
        "#Task08\n",
        "n=int(input(\"Number: \"))\n",
        "\n",
        "if (n%2==0) and (n%5==0):\n",
        "  print(n)\n",
        "else:\n",
        "  print(\"Not a multiple of 2 and 5\")"
      ],
      "metadata": {
        "id": "v-yaKstJYBxh",
        "colab": {
          "base_uri": "https://localhost:8080/"
        },
        "outputId": "6539f58b-3291-48be-d18f-f406de8e24c3"
      },
      "execution_count": null,
      "outputs": [
        {
          "output_type": "stream",
          "name": "stdout",
          "text": [
            "Number: 30\n",
            "30\n"
          ]
        }
      ]
    },
    {
      "cell_type": "code",
      "source": [
        "#Task09\n",
        "seconds=int(input(\"Enter: \"))\n",
        "\n",
        "hours=seconds//3600\n",
        "mins=(seconds%3600)//60\n",
        "secs=seconds%60\n",
        "\n",
        "print(\"Hours:\",hours,\"Minutes:\",mins,\"Seconds:\",secs)"
      ],
      "metadata": {
        "id": "EDVSCh99YB0C",
        "colab": {
          "base_uri": "https://localhost:8080/"
        },
        "outputId": "af3a1eaf-25e1-428a-82a8-6b7d8380ab1f"
      },
      "execution_count": null,
      "outputs": [
        {
          "output_type": "stream",
          "name": "stdout",
          "text": [
            "Enter: 10000\n",
            "Hours: 2 Minutes: 46 Seconds: 40\n"
          ]
        }
      ]
    },
    {
      "cell_type": "code",
      "source": [
        "#Task10\n",
        "hours=int(input(\"Enter: \"))\n",
        "\n",
        "if hours>168:\n",
        "  print(\"Impossible to work more than 168 hours weekly\")\n",
        "elif hours<0:\n",
        "  print(\"Hour cannot be negative\")\n",
        "elif hours<40:\n",
        "  print(hours*200)\n",
        "else:\n",
        "  print(8000+(hours-40)*300)\n"
      ],
      "metadata": {
        "id": "1fDNSLiKYB2y",
        "colab": {
          "base_uri": "https://localhost:8080/"
        },
        "outputId": "b49703b3-9f4a-4b3d-afec-c715c40437ec"
      },
      "execution_count": null,
      "outputs": [
        {
          "output_type": "stream",
          "name": "stdout",
          "text": [
            "Enter: 100\n",
            "26000\n"
          ]
        }
      ]
    },
    {
      "cell_type": "code",
      "source": [
        "#Task11\n",
        "s=int(input(\"Enter the value: \"))\n",
        "\n",
        "if s>=100:\n",
        "  print(12000/(4+s**2/14900))\n",
        "else:\n",
        "  print(3000-(125*s**2))"
      ],
      "metadata": {
        "id": "Zxan6yWqYB5l",
        "colab": {
          "base_uri": "https://localhost:8080/"
        },
        "outputId": "bb2e0bf1-5e3b-4704-d32c-08d129e65b16"
      },
      "execution_count": null,
      "outputs": [
        {
          "output_type": "stream",
          "name": "stdout",
          "text": [
            "Enter the value: 3\n",
            "1875\n"
          ]
        }
      ]
    },
    {
      "cell_type": "code",
      "source": [
        "#Task12\n",
        "hour=int(input(\"Enter the hours: \"))\n",
        "\n",
        "if hours>=0 and hours<24:\n",
        "  if hours>=4 and hours<=6:\n",
        "    print(\"Breakfast\")\n",
        "  elif hours>=12 and hours<=13:\n",
        "    print(\"Lunch\")\n",
        "  elif hours>=16 and hours<=17:\n",
        "     print(\"Snacks\")\n",
        "  elif hours>=19 and hours<=20:\n",
        "     print(\"Dinner\")\n",
        "  else:\n",
        "     print(\"Patience is a virtue\")\n",
        "else:\n",
        "  print(\"Wrong time\")\n",
        "\n",
        "\n"
      ],
      "metadata": {
        "id": "5w9bIfVQYB8c",
        "colab": {
          "base_uri": "https://localhost:8080/"
        },
        "outputId": "bfa3da2a-6124-4724-dc25-d0af37c0637e"
      },
      "execution_count": null,
      "outputs": [
        {
          "output_type": "stream",
          "name": "stdout",
          "text": [
            "Enter the hours: 5\n",
            "Wrong time\n"
          ]
        }
      ]
    },
    {
      "cell_type": "code",
      "source": [
        "#Task13\n",
        "marks=int(input(\"Enter the mark: \"))\n",
        "\n",
        "if marks>=0 and mark<=100:\n",
        "  if marks>=90 and marks<=100:\n",
        "    print(\"A\")\n",
        "  elif marks>=80 and marks<=89:\n",
        "    print(\"B\")\n",
        "  elif marks>=70 and marks<=79:\n",
        "    print(\"C\")\n",
        "  elif marks>=60 and marks<=69:\n",
        "    print(\"D\")\n",
        "  elif marks>=50 and marks<=59:\n",
        "    print(\"E\")\n",
        "  else:\n",
        "    print(\"F\")\n",
        "else:\n",
        "  print(\"Invalid\")\n",
        "\n"
      ],
      "metadata": {
        "id": "Uiey6EvYYB-5",
        "colab": {
          "base_uri": "https://localhost:8080/"
        },
        "outputId": "aece33ba-806b-4537-e8f3-b80081b177e9"
      },
      "execution_count": null,
      "outputs": [
        {
          "output_type": "stream",
          "name": "stdout",
          "text": [
            "Enter the mark: 90\n",
            "A\n"
          ]
        }
      ]
    },
    {
      "cell_type": "code",
      "source": [
        "#Task14\n",
        "kilo=int(input(\"Enter the kilo: \"))\n",
        "hour=int(input(\"Enter the hour: \" ))\n",
        "\n",
        "kilometres=(kilo/1000)\n",
        "hours=(hour/3600)\n",
        "time=kilometres/hours\n",
        "\n",
        "print(time,\"km/h\")\n",
        "if time>90:\n",
        "  print(\"Too fast. Only a few changes should suffice.\")\n",
        "elif time>60 and time<90:\n",
        "  print(\"Velocity is okay. The car is ready!\")\n",
        "else:\n",
        "  (\"Too slow. Needs more changes.\")\n"
      ],
      "metadata": {
        "id": "piaHvz34YCBx",
        "colab": {
          "base_uri": "https://localhost:8080/"
        },
        "outputId": "e941501c-c30a-4da1-9a26-37d56aae0256"
      },
      "execution_count": null,
      "outputs": [
        {
          "output_type": "stream",
          "name": "stdout",
          "text": [
            "Enter the kilo: 160000\n",
            "Enter the hour: 7200\n",
            "80.0 km/h\n",
            "Velocity is okay. The car is ready!\n"
          ]
        }
      ]
    },
    {
      "cell_type": "code",
      "source": [
        "#Task15\n",
        "cgpa=float(input(\"Enter the cgpa: \"))\n",
        "credit=int(input(\"Credit: \"))\n",
        "\n",
        "if credit>=30 and cgpa>=3.8:\n",
        "  if cgpa>=3.80 and cgpa<=3.89:\n",
        "     print(\"The student is eligible for a waiver of 25 percent.\")\n",
        "  elif cgpa>=3.90 and cgpa<=3.94:\n",
        "     print(\"The student is eligible for a waiver of 50 percent.\")\n",
        "  elif cgpa>=3.95 and cgpa<=3.99:\n",
        "    print(\"The student is eligible for a waiver of 75 percent.\")\n",
        "  else:\n",
        "    print(\"The student is eligible for a waiver of 100 percent.\")\n",
        "else:\n",
        "  print(\"The student is not eligible for a waiver\")\n"
      ],
      "metadata": {
        "id": "nDqXHgiZYCEj",
        "colab": {
          "base_uri": "https://localhost:8080/"
        },
        "outputId": "05882686-6cca-4efe-f820-4516883327b1"
      },
      "execution_count": null,
      "outputs": [
        {
          "output_type": "stream",
          "name": "stdout",
          "text": [
            "Enter the cgpa: 3.93\n",
            "Credit: 78\n",
            "The student is eligible for a waiver of 50 percent.\n"
          ]
        }
      ]
    },
    {
      "cell_type": "code",
      "source": [
        "#Practise\n",
        "capp:int(input(\"Enter Cappuccions: \"))\n",
        "brow:int(input(\"Enter Browners: \"))\n",
        "\n",
        "capp_price=capp*350\n",
        "brow_price=brow*175\n",
        "total=(capp_price+brow_price)\n",
        "\n",
        "if total >=0 and total<=299:\n",
        "  print(\"\")\n",
        "elif total>=300 and total<=599:\n",
        "  print(\"\")\n",
        "elif total>=600 and total<=999:\n",
        "  print(\"\")\n",
        "else:\n",
        "  print(\"\")"
      ],
      "metadata": {
        "id": "sj4RAemDYCKb"
      },
      "execution_count": null,
      "outputs": []
    },
    {
      "cell_type": "code",
      "source": [
        "#Task20\n",
        "n=int(input(\"\"))\n",
        "\n",
        "if (n%2==0) or (n%5==0):\n",
        "  print(n)\n",
        "else:\n",
        "  print(\"No\")"
      ],
      "metadata": {
        "colab": {
          "base_uri": "https://localhost:8080/"
        },
        "id": "2uFYOpBzUr7O",
        "outputId": "69db4ddc-6dc7-457c-ded1-8d75b16fed7e"
      },
      "execution_count": null,
      "outputs": [
        {
          "output_type": "stream",
          "name": "stdout",
          "text": [
            "5\n",
            "5\n"
          ]
        }
      ]
    }
  ],
  "metadata": {
    "colab": {
      "provenance": [],
      "include_colab_link": true
    },
    "kernelspec": {
      "display_name": "Python 3",
      "name": "python3"
    }
  },
  "nbformat": 4,
  "nbformat_minor": 0
}