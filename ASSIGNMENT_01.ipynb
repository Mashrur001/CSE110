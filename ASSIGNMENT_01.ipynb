{
  "cells": [
    {
      "cell_type": "markdown",
      "metadata": {
        "id": "view-in-github",
        "colab_type": "text"
      },
      "source": [
        "<a href=\"https://colab.research.google.com/github/Mashrur001/CSE110/blob/main/ASSIGNMENT_01.ipynb\" target=\"_parent\"><img src=\"https://colab.research.google.com/assets/colab-badge.svg\" alt=\"Open In Colab\"/></a>"
      ]
    },
    {
      "cell_type": "code",
      "source": [
        "+#Assignment 01\n",
        "#Task04\n",
        "\n",
        "s=input(\"Enter the name: \")\n",
        "print(\"Your name is\",s)"
      ],
      "metadata": {
        "colab": {
          "base_uri": "https://localhost:8080/"
        },
        "id": "Wtzil7YxdSeJ",
        "outputId": "691e6109-6208-4072-91ce-b064a0cf6388"
      },
      "execution_count": null,
      "outputs": [
        {
          "output_type": "stream",
          "name": "stdout",
          "text": [
            "Enter the name: John\n",
            "Your name is John\n"
          ]
        }
      ]
    },
    {
      "cell_type": "code",
      "source": [
        "#Task05\n",
        "m=int(input())\n",
        "n=int(input())\n",
        "\n",
        "print(str(m)+\"^\"+str(n)+\":\",m**n)"
      ],
      "metadata": {
        "colab": {
          "base_uri": "https://localhost:8080/"
        },
        "id": "dvlYrxjagt9r",
        "outputId": "d0e2caf6-4672-4c98-9249-8ace7e4f03a3"
      },
      "execution_count": null,
      "outputs": [
        {
          "output_type": "stream",
          "name": "stdout",
          "text": [
            "2\n",
            "3\n",
            "2^3: 8\n"
          ]
        }
      ]
    },
    {
      "cell_type": "code",
      "source": [
        "#Task06\n",
        "\n",
        "weight=int(input(\"Enter the weight: \"))\n",
        "\n",
        "print((weight//4)*4)\n",
        "\n"
      ],
      "metadata": {
        "colab": {
          "base_uri": "https://localhost:8080/"
        },
        "id": "jcAVFhSVdSgZ",
        "outputId": "b8d0b543-1d3f-4622-a630-a4fb1dbf5602"
      },
      "execution_count": null,
      "outputs": [
        {
          "output_type": "stream",
          "name": "stdout",
          "text": [
            "Enter the weight: 23\n",
            "20\n"
          ]
        }
      ]
    },
    {
      "cell_type": "code",
      "source": [
        "#Task07\n",
        "\n",
        "a=int(input())\n",
        "b=int(input())\n",
        "c=int(input())\n",
        "d=float(input())\n",
        "\n",
        "formula=int((a**c+b*a-d/3))\n",
        "print(formula)"
      ],
      "metadata": {
        "colab": {
          "base_uri": "https://localhost:8080/"
        },
        "id": "7d5D9O8mdSlV",
        "outputId": "bc894179-48d4-4dd3-a956-c815bb81a801"
      },
      "execution_count": null,
      "outputs": [
        {
          "output_type": "stream",
          "name": "stdout",
          "text": [
            "2\n",
            "6\n",
            "8\n",
            "1.3\n",
            "267\n"
          ]
        }
      ]
    },
    {
      "cell_type": "code",
      "source": [
        "#Task08\n",
        "choco=int(input(\"Enter the chocolates: \"))\n",
        "\n",
        "print(\"Each friend will receive\",(choco//3),\"chocolates\")\n",
        "print(\"The number of remaining chocolates is\",(choco%3))"
      ],
      "metadata": {
        "id": "BwYAl-ncdSn6",
        "colab": {
          "base_uri": "https://localhost:8080/"
        },
        "outputId": "744aea13-136f-4785-959f-bf6049bbc5d4"
      },
      "execution_count": null,
      "outputs": [
        {
          "output_type": "stream",
          "name": "stdout",
          "text": [
            "Enter the chocolates: 50\n",
            "Each friend will receive 16 chocolates\n",
            "The number of remaining chocolates is 2\n"
          ]
        }
      ]
    },
    {
      "cell_type": "code",
      "source": [
        "#Task10\n",
        "line=input()\n",
        "\n",
        "print(line[0])"
      ],
      "metadata": {
        "id": "dXwXB6O0dSsj",
        "colab": {
          "base_uri": "https://localhost:8080/"
        },
        "outputId": "f5dde4f0-019f-4dff-d71b-0b691ff463d9"
      },
      "execution_count": null,
      "outputs": [
        {
          "output_type": "stream",
          "name": "stdout",
          "text": [
            "The quick brown fox jumps over the lazy dog\n",
            "T\n"
          ]
        }
      ]
    },
    {
      "cell_type": "code",
      "source": [
        "#Task11\n",
        "n=int(input(\"Number: \"))\n",
        "\n",
        "if n%2==0:\n",
        "  print(\"True\")\n",
        "else:\n",
        "  print(\"false\")"
      ],
      "metadata": {
        "id": "i6TF3lYJdSu-",
        "colab": {
          "base_uri": "https://localhost:8080/"
        },
        "outputId": "858f4656-24af-409a-c195-60ded8ccfdf1"
      },
      "execution_count": null,
      "outputs": [
        {
          "output_type": "stream",
          "name": "stdout",
          "text": [
            "Number: -26\n",
            "True\n"
          ]
        }
      ]
    },
    {
      "cell_type": "code",
      "source": [
        "#practice\n",
        "m=int(input(\"\"))\n",
        "n=int(input(\"\"))\n",
        "form=m**n\n",
        "print(m,\"^\",n,\":\",form)"
      ],
      "metadata": {
        "id": "CKepqlCTdSx1",
        "colab": {
          "base_uri": "https://localhost:8080/"
        },
        "outputId": "08ecdf2d-f328-41a6-aa16-1fdef4b5dbd5"
      },
      "execution_count": null,
      "outputs": [
        {
          "output_type": "stream",
          "name": "stdout",
          "text": [
            "2\n",
            "3\n",
            "2 ^ 3 : 8\n"
          ]
        }
      ]
    },
    {
      "cell_type": "code",
      "source": [
        "#practice\n",
        "shipment=int(input(\"\"))\n",
        "weight=(shipment//4)*4\n",
        "print(weight)"
      ],
      "metadata": {
        "id": "9TxxYDMcdS0R",
        "colab": {
          "base_uri": "https://localhost:8080/"
        },
        "outputId": "4de511d1-f029-4ea9-d257-85ce00aef8b5"
      },
      "execution_count": null,
      "outputs": [
        {
          "output_type": "stream",
          "name": "stdout",
          "text": [
            "11\n",
            "8\n"
          ]
        }
      ]
    }
  ],
  "metadata": {
    "colab": {
      "provenance": [],
      "include_colab_link": true
    },
    "kernelspec": {
      "display_name": "Python 3",
      "name": "python3"
    }
  },
  "nbformat": 4,
  "nbformat_minor": 0
}