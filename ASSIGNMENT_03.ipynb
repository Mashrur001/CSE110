{
  "cells": [
    {
      "cell_type": "markdown",
      "metadata": {
        "id": "view-in-github",
        "colab_type": "text"
      },
      "source": [
        "<a href=\"https://colab.research.google.com/github/Mashrur001/CSE110/blob/main/ASSIGNMENT_03.ipynb\" target=\"_parent\"><img src=\"https://colab.research.google.com/assets/colab-badge.svg\" alt=\"Open In Colab\"/></a>"
      ]
    },
    {
      "cell_type": "code",
      "source": [
        "#Task01(a)\n",
        "for i in range(24,-7,-6):\n",
        "\n",
        "  if i==-6:\n",
        "    print(i)\n",
        "  else:\n",
        "    print(i,end=\",\")"
      ],
      "metadata": {
        "colab": {
          "base_uri": "https://localhost:8080/"
        },
        "id": "AB1gpLk49LQI",
        "outputId": "5dbbc9c1-acbb-437d-f144-9b6b391d4071"
      },
      "execution_count": null,
      "outputs": [
        {
          "output_type": "stream",
          "name": "stdout",
          "text": [
            "24,18,12,6,0,-6\n"
          ]
        }
      ]
    },
    {
      "cell_type": "code",
      "source": [
        "#Task01(b)\n",
        "for i in range(-10,21,5):\n",
        "\n",
        "  if i==20:\n",
        "    print(i)\n",
        "  else:\n",
        "    print(i,end=\",\")"
      ],
      "metadata": {
        "colab": {
          "base_uri": "https://localhost:8080/"
        },
        "id": "cbGksDgt9LSo",
        "outputId": "89b7da02-2b1e-4cc3-b746-71fc1e325b51"
      },
      "execution_count": null,
      "outputs": [
        {
          "output_type": "stream",
          "name": "stdout",
          "text": [
            "-10,-5,0,5,10,15,20\n"
          ]
        }
      ]
    },
    {
      "cell_type": "code",
      "source": [
        "#Task01(c)\n",
        "for i in range(18,64,9):\n",
        "\n",
        "  if i==63:\n",
        "    print(i)\n",
        "  else:\n",
        "    print(i,end=\",\")"
      ],
      "metadata": {
        "id": "Bc57OjXx9LVD",
        "colab": {
          "base_uri": "https://localhost:8080/"
        },
        "outputId": "518f0879-3b63-47cf-a489-16a552205ea9"
      },
      "execution_count": null,
      "outputs": [
        {
          "output_type": "stream",
          "name": "stdout",
          "text": [
            "18,27,36,45,54,63\n"
          ]
        }
      ]
    },
    {
      "cell_type": "code",
      "source": [
        "#Task01(d)\n",
        "for i in range(18,64,9):\n",
        "\n",
        "  if i%2==0:\n",
        "    print(i,end=\",\")\n",
        "  elif i==63:\n",
        "    print(i*-1)\n",
        "  else:\n",
        "    print(-1*i,end=\",\")"
      ],
      "metadata": {
        "id": "9bH-TYwA9LXo",
        "colab": {
          "base_uri": "https://localhost:8080/"
        },
        "outputId": "11008fc0-a4a3-40fa-e350-f12f43441f46"
      },
      "execution_count": null,
      "outputs": [
        {
          "output_type": "stream",
          "name": "stdout",
          "text": [
            "18,-27,36,-45,54,-63\n"
          ]
        }
      ]
    },
    {
      "cell_type": "code",
      "source": [
        "#Task02\n",
        "car=input(\"Enter the car name: \")\n",
        "number=int(input(\"Enter the number: \"))\n",
        "\n",
        "for i in range(number):\n",
        "  print(car)"
      ],
      "metadata": {
        "id": "xh0B3gYB9Lak",
        "colab": {
          "base_uri": "https://localhost:8080/"
        },
        "outputId": "31af88ea-4120-40f4-b801-38bb8b44973c"
      },
      "execution_count": null,
      "outputs": [
        {
          "output_type": "stream",
          "name": "stdout",
          "text": [
            "Enter the car name: Toyota\n",
            "Enter the number: 2\n",
            "Toyota\n",
            "Toyota\n"
          ]
        }
      ]
    },
    {
      "cell_type": "code",
      "source": [
        "#Task03\n",
        "sum=0\n",
        "for i in range(7,601,1):\n",
        "  if i%7==0 and i%9==0:\n",
        "   sum=sum+i\n",
        "print(sum)"
      ],
      "metadata": {
        "id": "BEhlOp0O9LdH",
        "colab": {
          "base_uri": "https://localhost:8080/"
        },
        "outputId": "7f4c3b99-d91f-4ec9-877d-26b119e8afb5"
      },
      "execution_count": null,
      "outputs": [
        {
          "output_type": "stream",
          "name": "stdout",
          "text": [
            "2835\n"
          ]
        }
      ]
    },
    {
      "cell_type": "code",
      "source": [
        "#Task04\n",
        "sum=0\n",
        "for i in range(7,601,1):\n",
        "  if (i%7==0 and i%9!=0) or (i%7!=0 and i%9==0):\n",
        "   sum=sum+i\n",
        "print(sum)"
      ],
      "metadata": {
        "id": "-DNwWV5o9Lig",
        "colab": {
          "base_uri": "https://localhost:8080/"
        },
        "outputId": "13d95e9f-450f-4a6f-c0bd-79a8cd7793c6"
      },
      "execution_count": null,
      "outputs": [
        {
          "output_type": "stream",
          "name": "stdout",
          "text": [
            "39814\n"
          ]
        }
      ]
    },
    {
      "cell_type": "code",
      "source": [
        "#Task05\n",
        "for i in range(10,51,1):\n",
        " if i%2!=0:\n",
        "  print(i)\n",
        "\n"
      ],
      "metadata": {
        "id": "eG1T5mr29Lfv",
        "colab": {
          "base_uri": "https://localhost:8080/"
        },
        "outputId": "f14fd575-3f3c-4a6a-8edb-43036323c2b5"
      },
      "execution_count": null,
      "outputs": [
        {
          "output_type": "stream",
          "name": "stdout",
          "text": [
            "11\n",
            "13\n",
            "15\n",
            "17\n",
            "19\n",
            "21\n",
            "23\n",
            "25\n",
            "27\n",
            "29\n",
            "31\n",
            "33\n",
            "35\n",
            "37\n",
            "39\n",
            "41\n",
            "43\n",
            "45\n",
            "47\n",
            "49\n"
          ]
        }
      ]
    },
    {
      "cell_type": "code",
      "source": [
        "#Task06\n",
        "n=int(input(\"Enter the number: \"))\n",
        "sum=0\n",
        "for y in range(n+1):\n",
        " if y%2==0:\n",
        "   sum-=(y**2)\n",
        " else:\n",
        "   sum+=(y**2)\n",
        "print(sum)"
      ],
      "metadata": {
        "id": "9ZTM3QZo9LlN",
        "colab": {
          "base_uri": "https://localhost:8080/"
        },
        "outputId": "72e6581e-ef73-4149-c225-75fe72cbbcd4"
      },
      "execution_count": null,
      "outputs": [
        {
          "output_type": "stream",
          "name": "stdout",
          "text": [
            "Enter the number: 20\n",
            "-210\n"
          ]
        }
      ]
    },
    {
      "cell_type": "code",
      "source": [
        "#Task07\n",
        "sum=0\n",
        "counter=0\n",
        "\n",
        "for i in range(10):\n",
        "  n=int(input(\"\"))\n",
        "  if i%2!=0:\n",
        "    sum=sum+i\n",
        "    counter=counter+1\n",
        "print(\"The total of the odd numbers is\",sum,\"and their average is\",(sum/counter))"
      ],
      "metadata": {
        "id": "Znuh-5JE9Lno",
        "colab": {
          "base_uri": "https://localhost:8080/"
        },
        "outputId": "91605bbd-7fb6-4de4-d9ad-5936284e6d41"
      },
      "execution_count": null,
      "outputs": [
        {
          "output_type": "stream",
          "name": "stdout",
          "text": [
            "1\n",
            "2\n",
            "3\n",
            "4\n",
            "5\n",
            "6\n",
            "7\n",
            "8\n",
            "9\n",
            "10\n",
            "The total of the odd numbers is 25 and their average is 5.0\n"
          ]
        }
      ]
    },
    {
      "cell_type": "code",
      "source": [
        "#Task08\n",
        "N=int(input(\"Enter the number: \"))\n",
        "sum=0\n",
        "for i in range(1,N+1,1):\n",
        "  if i%7==0:\n",
        "   sum=sum+i\n",
        "print(sum)"
      ],
      "metadata": {
        "id": "s9g_su989LqP",
        "colab": {
          "base_uri": "https://localhost:8080/"
        },
        "outputId": "4329e271-0f38-4a44-f36d-30b608f5ac53"
      },
      "execution_count": null,
      "outputs": [
        {
          "output_type": "stream",
          "name": "stdout",
          "text": [
            "Enter the number: 50\n",
            "196\n"
          ]
        }
      ]
    },
    {
      "cell_type": "code",
      "source": [
        "#Task09\n",
        "sum=0\n",
        "\n",
        "for i in range(5):\n",
        "  n=int(input(\"Enter number: \"))\n",
        "  sum=sum+n\n",
        "  print(sum)\n",
        "\n"
      ],
      "metadata": {
        "id": "5ACMxHtd9Lto",
        "colab": {
          "base_uri": "https://localhost:8080/"
        },
        "outputId": "c6f5aaae-7586-424e-912e-e82851b98030"
      },
      "execution_count": null,
      "outputs": [
        {
          "output_type": "stream",
          "name": "stdout",
          "text": [
            "Enter number: 2\n",
            "2\n",
            "Enter number: 3\n",
            "5\n",
            "Enter number: 4\n",
            "9\n",
            "Enter number: 5\n",
            "14\n",
            "Enter number: 6\n",
            "20\n"
          ]
        }
      ]
    },
    {
      "cell_type": "code",
      "source": [
        "#Task10\n",
        "num=int(input(\"Enter the number: \"))\n",
        "\n",
        "while num!=0:\n",
        "  remain=num%10\n",
        "  num=num//10\n",
        "  if num==0:\n",
        "    print(remain,end=\"\")\n",
        "  else:\n",
        "    print(remain,end=\",\")"
      ],
      "metadata": {
        "id": "E7dyFjxb9LwI",
        "colab": {
          "base_uri": "https://localhost:8080/"
        },
        "outputId": "778f3c1d-7654-45df-df01-b9d9787abdc3"
      },
      "execution_count": null,
      "outputs": [
        {
          "output_type": "stream",
          "name": "stdout",
          "text": [
            "Enter the number: 32768\n",
            "8,6,7,2,3"
          ]
        }
      ]
    },
    {
      "cell_type": "code",
      "source": [
        "#Task11\n",
        "num = 3452\n",
        "count = 0\n",
        "\n",
        "while num != 0:\n",
        "    num //= 10\n",
        "    count += 1\n",
        "\n",
        "print(\"Number of digits: \" + str(count))"
      ],
      "metadata": {
        "colab": {
          "base_uri": "https://localhost:8080/"
        },
        "id": "gOc0aehWR-3F",
        "outputId": "5db5c4ed-25f3-4634-b3a6-ea594bdad96f"
      },
      "execution_count": null,
      "outputs": [
        {
          "output_type": "stream",
          "name": "stdout",
          "text": [
            "Number of digits: 4\n"
          ]
        }
      ]
    },
    {
      "cell_type": "code",
      "source": [
        "#Task13\n",
        "n=int(input(\"Enter the number: \"))\n",
        "count=0\n",
        "for i in range(1,n+1):\n",
        "  if n%i==0 and n>0:\n",
        "    print(i)\n",
        "    count=count+1\n",
        "print(\"Total\",count,\"divisior\")"
      ],
      "metadata": {
        "colab": {
          "base_uri": "https://localhost:8080/"
        },
        "id": "yETWa9argdEO",
        "outputId": "ea2aaafc-d206-423c-c6a8-57cbe0ccc948"
      },
      "execution_count": null,
      "outputs": [
        {
          "output_type": "stream",
          "name": "stdout",
          "text": [
            "Enter the number: 6\n",
            "1\n",
            "2\n",
            "3\n",
            "6\n",
            "Total 4 division\n"
          ]
        }
      ]
    },
    {
      "cell_type": "code",
      "source": [
        "#Task14\n",
        "n=int(input(\"Enter the number: \"))\n",
        "sum=0\n",
        "for i in range(1,n):\n",
        "  if n%i==0:\n",
        "    sum=sum+i\n",
        "if sum==n:\n",
        "  print(n,\"is a perfect number.\")\n",
        "else:\n",
        "  print(n,\"is not a perfect number.\")"
      ],
      "metadata": {
        "colab": {
          "base_uri": "https://localhost:8080/"
        },
        "id": "JVMm0HwJgdBX",
        "outputId": "19fa9229-ecbc-46e7-9d84-b55521cd04ce"
      },
      "execution_count": null,
      "outputs": [
        {
          "output_type": "stream",
          "name": "stdout",
          "text": [
            "Enter the number: 6\n",
            "6 is a perfect number.\n"
          ]
        }
      ]
    },
    {
      "cell_type": "code",
      "source": [
        "#Task15\n",
        "n=int(input(\"\"))\n",
        "div_count=0\n",
        "for i in range(1,n+1):\n",
        "  if n%i==0:\n",
        "    div_count=div_count+1\n",
        "if div_count==2:\n",
        "  print(n,\"is a prime number\")\n",
        "else:\n",
        "  print(n,\"is not a prime number\")"
      ],
      "metadata": {
        "id": "CEJn1ulSgc-9",
        "colab": {
          "base_uri": "https://localhost:8080/"
        },
        "outputId": "36645331-c574-438d-e5b2-7ead9b355154"
      },
      "execution_count": null,
      "outputs": [
        {
          "output_type": "stream",
          "name": "stdout",
          "text": [
            "11\n",
            "11 is a prime number\n"
          ]
        }
      ]
    },
    {
      "cell_type": "code",
      "source": [
        "#Task16\n",
        "a=int(input(\"\"))\n",
        "sum=0\n",
        "\n",
        "for i in range(a):\n",
        "  b=int(input(\"\"))\n",
        "\n",
        "  if i==0:\n",
        "    max1=b\n",
        "    min1=b\n",
        "  if max1<b:\n",
        "    max1=b\n",
        "  if min1>b:\n",
        "    min1=b\n",
        "  sum=sum+b\n",
        "\n",
        "print(\"Maximum\",max1)\n",
        "print(\"Minimum\",min1)\n",
        "print(\"Average is\",sum/a)"
      ],
      "metadata": {
        "colab": {
          "base_uri": "https://localhost:8080/"
        },
        "id": "0UiULfoogc8i",
        "outputId": "fa143a3e-4d50-49f4-d4a5-db261bdba693"
      },
      "execution_count": null,
      "outputs": [
        {
          "output_type": "stream",
          "name": "stdout",
          "text": [
            "3\n",
            "-3\n",
            "-5\n",
            "-7\n",
            "Maximum -3\n",
            "Minimum -7\n",
            "Average is -5.0\n"
          ]
        }
      ]
    },
    {
      "cell_type": "code",
      "source": [
        "#Task17\n",
        "n=int(input(\"Please enter the number: \"))\n",
        "for i in range(n):\n",
        "  for i in range(n):\n",
        "   print(\"+\",end=\"\")\n",
        "  print()"
      ],
      "metadata": {
        "id": "NssAN_FIgc3j",
        "colab": {
          "base_uri": "https://localhost:8080/"
        },
        "outputId": "d7a5a4ac-b81f-432c-ed24-684aee8dba26"
      },
      "execution_count": null,
      "outputs": [
        {
          "output_type": "stream",
          "name": "stdout",
          "text": [
            "Please enter the number: 5\n",
            "+++++\n",
            "+++++\n",
            "+++++\n",
            "+++++\n",
            "+++++\n"
          ]
        }
      ]
    },
    {
      "cell_type": "code",
      "source": [
        "#Task19\n",
        "m=int(input(\"\"))\n",
        "n=int(input(\"\"))\n",
        "\n",
        "for i in range(m):\n",
        "  for j in range(1,n+1):\n",
        "   print(i,end=\"\")\n",
        "  print()"
      ],
      "metadata": {
        "id": "cK1vwrtDgc07",
        "colab": {
          "base_uri": "https://localhost:8080/"
        },
        "outputId": "4a8c1d86-d0c8-407d-d552-4bef5d103aac"
      },
      "execution_count": null,
      "outputs": [
        {
          "output_type": "stream",
          "name": "stdout",
          "text": [
            "4\n",
            "6\n",
            "123456\n",
            "123456\n",
            "123456\n",
            "123456\n"
          ]
        }
      ]
    },
    {
      "cell_type": "code",
      "source": [
        "#Task20\n",
        "n=int(input(\"Enter the value: \"))\n",
        "for i in range(n):\n",
        "  for j in range(1,n+1):\n",
        "    print(i,end=\"\")\n",
        "  print()"
      ],
      "metadata": {
        "colab": {
          "base_uri": "https://localhost:8080/"
        },
        "id": "w_Ti_Wi4kkIx",
        "outputId": "82fdc627-7869-408c-debc-0200a6485f87"
      },
      "execution_count": null,
      "outputs": [
        {
          "output_type": "stream",
          "name": "stdout",
          "text": [
            "Enter the value: 4\n",
            "1234\n",
            "1234\n",
            "1234\n",
            "1234\n"
          ]
        }
      ]
    },
    {
      "cell_type": "code",
      "source": [
        "#Task25\n",
        "n=int(input(\"\"))\n",
        "sum=0\n",
        "\n",
        "for i in range(0,n+1,1):\n",
        "  if i==n:\n",
        "    print(i)\n",
        "  else:\n",
        "    sum=sum+i\n",
        "    print(sum)"
      ],
      "metadata": {
        "id": "qMJ7dfXTYoY5"
      },
      "execution_count": null,
      "outputs": []
    },
    {
      "cell_type": "code",
      "source": [
        "#Practice Task\n",
        "\n",
        "for i in range (5):\n",
        "  for j in range (i):\n",
        "    print (\"$\",end=\" \")\n",
        "  print (\"*\")\n",
        "for i in range (6):\n",
        "  for j in range (5-i):\n",
        "    print(\"$\",end=\" \")\n",
        "  print(\"*\")"
      ],
      "metadata": {
        "id": "Zo1ivIYye0HG",
        "colab": {
          "base_uri": "https://localhost:8080/"
        },
        "outputId": "4159c341-9565-495c-9d23-dfef9078dc78"
      },
      "execution_count": null,
      "outputs": [
        {
          "output_type": "stream",
          "name": "stdout",
          "text": [
            "*\n",
            "$ *\n",
            "$ $ *\n",
            "$ $ $ *\n",
            "$ $ $ $ *\n",
            "$ $ $ $ $ *\n",
            "$ $ $ $ *\n",
            "$ $ $ *\n",
            "$ $ *\n",
            "$ *\n",
            "*\n"
          ]
        }
      ]
    }
  ],
  "metadata": {
    "colab": {
      "provenance": [],
      "include_colab_link": true
    },
    "kernelspec": {
      "display_name": "Python 3",
      "name": "python3"
    }
  },
  "nbformat": 4,
  "nbformat_minor": 0
}