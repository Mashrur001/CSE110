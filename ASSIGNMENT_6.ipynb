{
  "nbformat": 4,
  "nbformat_minor": 0,
  "metadata": {
    "colab": {
      "provenance": [],
      "include_colab_link": true
    },
    "kernelspec": {
      "name": "python3",
      "display_name": "Python 3"
    },
    "language_info": {
      "name": "python"
    }
  },
  "cells": [
    {
      "cell_type": "markdown",
      "metadata": {
        "id": "view-in-github",
        "colab_type": "text"
      },
      "source": [
        "<a href=\"https://colab.research.google.com/github/Mashrur001/CSE110/blob/main/ASSIGNMENT_6.ipynb\" target=\"_parent\"><img src=\"https://colab.research.google.com/assets/colab-badge.svg\" alt=\"Open In Colab\"/></a>"
      ]
    },
    {
      "cell_type": "code",
      "source": [
        "#Task 1\n",
        "\n",
        "def even_checker(num):\n",
        "  if num%2==0:\n",
        "    print('Even')\n",
        "  else:\n",
        "    print('Odd')\n",
        "even_checker(5)"
      ],
      "metadata": {
        "colab": {
          "base_uri": "https://localhost:8080/"
        },
        "id": "Wp8qY3-yErnS",
        "outputId": "1360befe-0102-4bdb-9d17-4565be4a0e0a"
      },
      "execution_count": null,
      "outputs": [
        {
          "output_type": "stream",
          "name": "stdout",
          "text": [
            "Odd\n"
          ]
        }
      ]
    },
    {
      "cell_type": "code",
      "source": [
        "#Task 2\n",
        "def fibonacci(limit):\n",
        "  a=0\n",
        "  b=1\n",
        "  c=0\n",
        "  while c < limit:\n",
        "    print(c,end=' ')\n",
        "    a=b\n",
        "    b=c\n",
        "    c=a+b\n",
        "fibonacci(10)"
      ],
      "metadata": {
        "colab": {
          "base_uri": "https://localhost:8080/"
        },
        "id": "kkctrKfmW0Fy",
        "outputId": "2cdde981-7272-4fb6-90a5-3b4d425864ba"
      },
      "execution_count": null,
      "outputs": [
        {
          "output_type": "stream",
          "name": "stdout",
          "text": [
            "0 1 1 2 3 5 8 "
          ]
        }
      ]
    },
    {
      "cell_type": "code",
      "source": [
        "#Task 3\n",
        "def foo_moo(num):\n",
        "    if num % 3 ==0 and num % 5 ==0:\n",
        "        print('FooMoo')\n",
        "    elif num % 3==0:\n",
        "        print('Foo')\n",
        "    elif num % 5==0:\n",
        "        print('Moo')\n",
        "    else:\n",
        "        print('Boo')\n",
        "foo_moo(5)\n",
        "foo_moo(3)\n",
        "foo_moo(15)\n",
        "foo_moo(2)"
      ],
      "metadata": {
        "id": "x6lVkm6QLkQ7",
        "colab": {
          "base_uri": "https://localhost:8080/"
        },
        "outputId": "ed5e09a3-e359-4df3-c35d-713bdc00cad8"
      },
      "execution_count": null,
      "outputs": [
        {
          "output_type": "stream",
          "name": "stdout",
          "text": [
            "Moo\n",
            "Foo\n",
            "FooMoo\n",
            "Boo\n"
          ]
        }
      ]
    },
    {
      "cell_type": "code",
      "source": [
        "#Task 4 (1) (******)\n",
        "def function_name(x):\n",
        "    c=''\n",
        "    lower=0\n",
        "    upper=0\n",
        "    for i in x:\n",
        "       if i != ' ':\n",
        "          c+=i\n",
        "    for i in c :\n",
        "       if 97 <= ord(i) <= 122:\n",
        "           lower+=1\n",
        "       else:\n",
        "           upper+=1\n",
        "    print('No. of Uppercase characters: ',upper)\n",
        "    print('No. of Lowercase characters: ',lower)\n",
        "x=input('Input: ')\n",
        "function_name(x)"
      ],
      "metadata": {
        "id": "3kKEbDbHLnNz",
        "colab": {
          "base_uri": "https://localhost:8080/"
        },
        "outputId": "c4abcb8a-2ecc-4cc3-bf19-aae2788f3916"
      },
      "execution_count": null,
      "outputs": [
        {
          "output_type": "stream",
          "name": "stdout",
          "text": [
            "Input: The quic Sand Man\n",
            "No. of Uppercase characters:  3\n",
            "No. of Lowercase characters:  11\n"
          ]
        }
      ]
    },
    {
      "cell_type": "code",
      "source": [
        "#Task 4 (2)\n",
        "def function_name(x):\n",
        "    c=''\n",
        "    lower=0\n",
        "    upper=0\n",
        "    for i in x:\n",
        "       if i != ' ':\n",
        "          c+=i\n",
        "    for i in c :\n",
        "       if i.islower():\n",
        "           lower+=1\n",
        "       else:\n",
        "           upper+=1\n",
        "    print('No of upper_case: ',upper)\n",
        "    print('No of lower_case: ',lower)\n",
        "x=input('Input: ')\n",
        "function_name(x)"
      ],
      "metadata": {
        "colab": {
          "base_uri": "https://localhost:8080/"
        },
        "id": "6a8ZkVFKLrIb",
        "outputId": "6f4afef2-7afc-4d93-a230-d9758cc6df38"
      },
      "execution_count": null,
      "outputs": [
        {
          "output_type": "stream",
          "name": "stdout",
          "text": [
            "Input: The quixk Sand Man\n",
            "No of upper_case:  3\n",
            "No of lower_case:  12\n"
          ]
        }
      ]
    },
    {
      "cell_type": "code",
      "execution_count": null,
      "metadata": {
        "id": "wgnUoXOcTZeH"
      },
      "outputs": [],
      "source": [
        "#Task 5\n",
        "def calculate_tax(age,salary,desig):\n",
        "  if age < 18 or salary < 10000 or desig == 'president':\n",
        "    tax=0\n",
        "  elif salary < 10000 and salary >20000:\n",
        "    tax= salary*5/100\n",
        "  elif salary >20000:\n",
        "    tax=salary*10/100\n",
        "  return tax\n",
        "age=int(input('Enter your age: '))\n",
        "salary=float(input('Enter your salary: '))\n",
        "desig=input('Enter your Designation: ')\n",
        "print(calculate_tax(age,salary,desig))"
      ]
    },
    {
      "cell_type": "code",
      "source": [
        "#Task 6\n",
        "def  number_of_days(x):\n",
        "   year=x//365\n",
        "   r_y=x%365\n",
        "   month=r_y//30\n",
        "   r_m=r_y%30\n",
        "   day=r_m\n",
        "   print('{} years, {} months and {} days'.format(year,month,day))\n",
        "f=int(input())\n",
        "number_of_days(f)"
      ],
      "metadata": {
        "id": "6jjW03W9P-pL",
        "colab": {
          "base_uri": "https://localhost:8080/"
        },
        "outputId": "474bd982-2107-4dbf-c565-e90c406dc66b"
      },
      "execution_count": null,
      "outputs": [
        {
          "output_type": "stream",
          "name": "stdout",
          "text": [
            "4330\n",
            "11 years, 10 months and 15 days\n"
          ]
        }
      ]
    },
    {
      "cell_type": "code",
      "source": [
        "#Task 7 (Prob)\n",
        "def show_palindrome(x):\n",
        "  add=''\n",
        "  add1=''\n",
        "  for i in range(1,x+1):\n",
        "    add+=str(i)\n",
        "  add1=add[-2::-1]\n",
        "  print(add,end='')\n",
        "  print(add1)\n",
        "show_palindrome(5)"
      ],
      "metadata": {
        "colab": {
          "base_uri": "https://localhost:8080/"
        },
        "id": "K8Vp0i7EZ7wW",
        "outputId": "1723d752-e1a4-4978-8072-8d17831a7c8f"
      },
      "execution_count": null,
      "outputs": [
        {
          "output_type": "stream",
          "name": "stdout",
          "text": [
            "123454321\n"
          ]
        }
      ]
    },
    {
      "cell_type": "code",
      "source": [
        "#Task 7  (****)\n",
        "def show_palindrome(x):\n",
        "  add=''\n",
        "  add1=''\n",
        "  for i in range(1,x+1):\n",
        "    add+=str(i)\n",
        "  add1=add[-1::-1]\n",
        "  add2=add+add1\n",
        "  return add2\n",
        "c=int(input('Enter your number here: '))\n",
        "print(show_palindrome(c))"
      ],
      "metadata": {
        "colab": {
          "base_uri": "https://localhost:8080/"
        },
        "id": "rUXzeYO-InC6",
        "outputId": "1dca6c36-0d96-4cc3-83cc-212a3e47faa4"
      },
      "execution_count": null,
      "outputs": [
        {
          "output_type": "stream",
          "name": "stdout",
          "text": [
            "Enter your number here: 5\n",
            "1234554321\n"
          ]
        }
      ]
    },
    {
      "cell_type": "code",
      "source": [
        "#Task 8\n",
        "def show_palindromic_triangle(row):\n",
        "  for row_count in range(1,row+1):\n",
        "    for space_count in range(1,(row-row_count)+1):\n",
        "      print(' ',end=' ')\n",
        "    for column_count in range(1,row_count+1):\n",
        "      print(column_count,end=' ')\n",
        "    for column_count in range(row_count-1,0,-1):\n",
        "      print(column_count,end=' ')\n",
        "    print()\n",
        "a_row=int(input())\n",
        "show_palindromic_triangle(a_row)"
      ],
      "metadata": {
        "colab": {
          "base_uri": "https://localhost:8080/"
        },
        "id": "OhO6D5jhjhI9",
        "outputId": "be5daffc-73f3-484c-adbd-d9097aeb7006"
      },
      "execution_count": null,
      "outputs": [
        {
          "output_type": "stream",
          "name": "stdout",
          "text": [
            "5\n",
            "        1 \n",
            "      1 2 1 \n",
            "    1 2 3 2 1 \n",
            "  1 2 3 4 3 2 1 \n",
            "1 2 3 4 5 4 3 2 1 \n"
          ]
        }
      ]
    },
    {
      "cell_type": "code",
      "source": [
        "#Task 8  (***)\n",
        "\n",
        "def show_palindromic_triangle(x):\n",
        "  x += 1\n",
        "  for i in range(x):\n",
        "    print(\" \" * 2 * (x - i - 1), end = \"\")\n",
        "    for j in range(1, i):\n",
        "      print(j, end = \" \")\n",
        "\n",
        "    for j in range(i, 0, -1):\n",
        "      print(j, end = \" \")\n",
        "    print()\n",
        "\n",
        "show_palindromic_triangle(5)"
      ],
      "metadata": {
        "colab": {
          "base_uri": "https://localhost:8080/"
        },
        "id": "uS8EtbWQwlKm",
        "outputId": "ce5c2c45-29ef-49b8-b75c-deabc157e90e"
      },
      "execution_count": null,
      "outputs": [
        {
          "output_type": "stream",
          "name": "stdout",
          "text": [
            "          \n",
            "        1 \n",
            "      1 2 1 \n",
            "    1 2 3 2 1 \n",
            "  1 2 3 4 3 2 1 \n",
            "1 2 3 4 5 4 3 2 1 \n"
          ]
        }
      ]
    },
    {
      "cell_type": "code",
      "source": [
        "#Task 8\n",
        "\n",
        "def show_palindrome(num):\n",
        "  string = \"\"\n",
        "  for i in range(1, num):\n",
        "    string += str(i)\n",
        "  for i in range(num, 0, -1):\n",
        "    string += str(i)\n",
        "\n",
        "  return string\n",
        "\n",
        "def show_palindromic_triangle(height):\n",
        "  for i in range(1, height + 1):\n",
        "    print(\" \" * (height - i) + show_palindrome(i))\n",
        "\n",
        "show_palindromic_triangle(5)"
      ],
      "metadata": {
        "colab": {
          "base_uri": "https://localhost:8080/"
        },
        "id": "YqObGeayKL_p",
        "outputId": "1262db9b-6740-45d9-b442-eb34356d79d1"
      },
      "execution_count": null,
      "outputs": [
        {
          "output_type": "stream",
          "name": "stdout",
          "text": [
            "    1\n",
            "   121\n",
            "  12321\n",
            " 1234321\n",
            "123454321\n"
          ]
        }
      ]
    },
    {
      "cell_type": "code",
      "source": [
        "#Task 9 (Prob)\n",
        "def area_circumference_generator(radius):\n",
        "  import math\n",
        "  area=math.pi*radius**2\n",
        "  circumference=2*math.pi*radius\n",
        "  a_tuple=(area,circumference)\n",
        "  print(a_tuple)\n",
        "  print('Area of the circle is {} and circumference is {}'.format(area,circumference))\n",
        "\n",
        "area_circumference_generator(1.5)"
      ],
      "metadata": {
        "id": "25r_bc_uoKJJ",
        "outputId": "a3fea28b-78ac-481a-fb99-13f466e203e5",
        "colab": {
          "base_uri": "https://localhost:8080/"
        }
      },
      "execution_count": null,
      "outputs": [
        {
          "output_type": "stream",
          "name": "stdout",
          "text": [
            "(7.0685834705770345, 9.42477796076938)\n",
            "Area of the circle is 7.0685834705770345 and circumference is 9.42477796076938\n"
          ]
        }
      ]
    },
    {
      "cell_type": "code",
      "source": [
        "#Task 9\n",
        "\n",
        "def area_circumference_generator(radius):\n",
        "  import math\n",
        "  area=math.pi*radius**2\n",
        "  circumference=2*math.pi*radius\n",
        "  return circumference , area\n",
        "  circumference , area = store\n",
        "#print(\"Area of the circle is {} and circumference is {}\".format(circumference, area))\n",
        "print(\"Area of the circle is {} and circumference is {}\".format(circumference, area))\n",
        "print(area_circumference_generator(1))"
      ],
      "metadata": {
        "colab": {
          "base_uri": "https://localhost:8080/"
        },
        "id": "AKGH4z-5Niyq",
        "outputId": "7d28b1cc-628a-4ae9-a09a-1dffe2bca1b3"
      },
      "execution_count": null,
      "outputs": [
        {
          "output_type": "stream",
          "name": "stdout",
          "text": [
            "Area of the circle is 6.283185307179586 and circumference is 3.141592653589793\n",
            "(6.283185307179586, 3.141592653589793)\n"
          ]
        }
      ]
    },
    {
      "cell_type": "code",
      "source": [
        "#Task 9 (***)\n",
        "import math\n",
        "def area_circumference_generator(radius):\n",
        "  circumference = 2 * math.pi * radius\n",
        "  area = math.pi * (radius ** 2)\n",
        "\n",
        "  return circumference, area\n",
        "\n",
        "store = area_circumference_generator(1)\n",
        "#print(type(store))\n",
        "circumference, area = store\n",
        "\n",
        "print(\"Area of the circle is {} and circumference is {}\".format(circumference, area))"
      ],
      "metadata": {
        "colab": {
          "base_uri": "https://localhost:8080/"
        },
        "id": "-7-OY2ZJL9zJ",
        "outputId": "589b74a7-5325-4c82-b3e2-cba2846c6ce0"
      },
      "execution_count": null,
      "outputs": [
        {
          "output_type": "stream",
          "name": "stdout",
          "text": [
            "Area of the circle is 6.283185307179586 and circumference is 3.141592653589793\n"
          ]
        }
      ]
    },
    {
      "cell_type": "code",
      "source": [
        "#Task 10\n",
        "def make_square(a_tuple):\n",
        "  i,j=a_tuple\n",
        "  a_dict={}\n",
        "  for c in range(i,j+1):\n",
        "      b=c**2\n",
        "      a_dict[c]=b\n",
        "  return a_dict\n",
        "print(make_square((5,9)))"
      ],
      "metadata": {
        "colab": {
          "base_uri": "https://localhost:8080/"
        },
        "id": "OXgEl6U5cLWW",
        "outputId": "9d90f6f1-fb86-4350-d497-d3bbe52d343b"
      },
      "execution_count": null,
      "outputs": [
        {
          "output_type": "stream",
          "name": "stdout",
          "text": [
            "{5: 25, 6: 36, 7: 49, 8: 64, 9: 81}\n"
          ]
        }
      ]
    },
    {
      "cell_type": "code",
      "source": [
        "#Task 11\n",
        "def rem_duplicate(a_tuple):\n",
        "  a_list=[]\n",
        "  for i in a_tuple:\n",
        "    if i not in a_list:\n",
        "      a_list.append(i)\n",
        "      c=tuple(a_list)\n",
        "  print(c)\n",
        "rem_duplicate((1,1,1,2,3,4,5,6,6,6,6,4,0,0,0))\n",
        "rem_duplicate((\"Hi\", 1, 2, 3, 3, \"Hi\",'a', 'a', [1,2]))\n"
      ],
      "metadata": {
        "colab": {
          "base_uri": "https://localhost:8080/"
        },
        "id": "lei7hN7kiQS7",
        "outputId": "831f63e8-fdf2-4b5d-8974-cb4b45957637"
      },
      "execution_count": null,
      "outputs": [
        {
          "output_type": "stream",
          "name": "stdout",
          "text": [
            "(1, 2, 3, 4, 5, 6, 0)\n",
            "('Hi', 1, 2, 3, 'a', [1, 2])\n"
          ]
        }
      ]
    },
    {
      "cell_type": "code",
      "source": [
        "#Task 11 (***) (***)\n",
        "def rem_duplicate(a_tuple):\n",
        "  a_list=[]\n",
        "  for i in a_tuple:\n",
        "    if i not in a_list:\n",
        "      a_list.append(i)\n",
        "      c=tuple(a_list)\n",
        "  return c\n",
        "print(rem_duplicate((\"Hi\", 1, 2, 3, 3, \"Hi\",'a', 'a', [1,2])))"
      ],
      "metadata": {
        "colab": {
          "base_uri": "https://localhost:8080/"
        },
        "id": "MGuscHpxmjP3",
        "outputId": "f30d19a9-15bf-47e3-d61b-c78726812699"
      },
      "execution_count": null,
      "outputs": [
        {
          "output_type": "stream",
          "name": "stdout",
          "text": [
            "('Hi', 1, 2, 3, 'a', [1, 2])\n"
          ]
        }
      ]
    },
    {
      "cell_type": "code",
      "source": [
        "#Task 11 (***)\n",
        "def rem_duplicate(a_tuple):\n",
        "  a_list=[]\n",
        "  for i in a_tuple:\n",
        "    if i not in a_list:\n",
        "      a_list.append(i)\n",
        "      c=tuple(a_list)\n",
        "  return c\n",
        "result=rem_duplicate((1,1,1,2,3,4,5,6,6,6,6,4,0,0,0))\n",
        "print(result)\n"
      ],
      "metadata": {
        "id": "2hIsyv9Gi5rC"
      },
      "execution_count": null,
      "outputs": []
    },
    {
      "cell_type": "code",
      "source": [
        "#Task 12(***)\n",
        "def function_name(element):\n",
        "  alist=[]\n",
        "  c=0\n",
        "  for i in element:\n",
        "    if alist.count(i) < 2:\n",
        "      alist.append(i)\n",
        "    else:\n",
        "      c+=1\n",
        "  print('Removed: ',c)\n",
        "  return alist\n",
        "result = function_name(([1, 2, 3, 3, 3, 3, 4, 5, 8, 8]))\n",
        "print(result)\n"
      ],
      "metadata": {
        "colab": {
          "base_uri": "https://localhost:8080/"
        },
        "id": "Ou_EMPGE8f-T",
        "outputId": "97d92ad8-eab5-4b94-841d-6fe2af25da9e"
      },
      "execution_count": null,
      "outputs": [
        {
          "output_type": "stream",
          "name": "stdout",
          "text": [
            "Removed:  2\n",
            "[1, 2, 3, 3, 4, 5, 8, 8]\n"
          ]
        }
      ]
    },
    {
      "cell_type": "code",
      "source": [
        "#Task 13\n",
        "def calculation(operand,first,second):\n",
        "    if operand == '+':\n",
        "       operation=first+second\n",
        "    elif operand == '-':\n",
        "         operation=first-second\n",
        "    elif operand=='*':\n",
        "         operation=first*second\n",
        "    elif operand=='/':\n",
        "         operation=first/second\n",
        "    print(operation)\n",
        "\n",
        "operand=input('Enter your operators here: ')\n",
        "first=float(input('Enter your first number here: '))\n",
        "second=float(input('Enter your second number here: '))\n",
        "calculation(operand,first,second)"
      ],
      "metadata": {
        "colab": {
          "base_uri": "https://localhost:8080/"
        },
        "id": "ze5KLI9E9m25",
        "outputId": "c0e4d348-1db5-4108-d379-f58862247f10"
      },
      "execution_count": null,
      "outputs": [
        {
          "output_type": "stream",
          "name": "stdout",
          "text": [
            "Enter your operators here: /\n",
            "Enter your first number here: 40\n",
            "Enter your second number here: 20\n",
            "2.0\n"
          ]
        }
      ]
    },
    {
      "cell_type": "code",
      "source": [
        "#Task 13 (***)\n",
        "def calculation(operand,first,second):\n",
        "    if operand == '+':\n",
        "       operation=first+second\n",
        "    elif operand == '-':\n",
        "         operation=first-second\n",
        "    elif operand=='*':\n",
        "         operation=first*second\n",
        "    elif operand=='/':\n",
        "         operation=first/second\n",
        "    return operation\n",
        "\n",
        "operand=input('Enter your operators here: ')\n",
        "first=float(input('Enter your first number here: '))\n",
        "second=float(input('Enter your second number here: '))\n",
        "result = calculation(operand,first,second)\n",
        "print(result)"
      ],
      "metadata": {
        "colab": {
          "base_uri": "https://localhost:8080/"
        },
        "id": "g1Wxwp2Hj05K",
        "outputId": "f0ebbe9f-77da-4bde-dc23-74f9cf18144e"
      },
      "execution_count": null,
      "outputs": [
        {
          "output_type": "stream",
          "name": "stdout",
          "text": [
            "Enter your operators here: /\n",
            "Enter your first number here: 40\n",
            "Enter your second number here: 20\n",
            "2.0\n"
          ]
        }
      ]
    },
    {
      "cell_type": "code",
      "source": [
        "#Task 14 (****)\n",
        "def funcrion_name(sentence,position):\n",
        "    add1=''\n",
        "    add2=''\n",
        "    for i in range(len(sentence)):\n",
        "        if i ==0:\n",
        "            add1+=sentence[i]\n",
        "        elif i % position !=0:\n",
        "            add1+=sentence[i]\n",
        "        else:\n",
        "            add2+=sentence[i]\n",
        "    return add1+add2\n",
        "\n",
        "sentence=input()\n",
        "position=int(input())\n",
        "result=funcrion_name(sentence,position)\n",
        "print(result)"
      ],
      "metadata": {
        "colab": {
          "base_uri": "https://localhost:8080/"
        },
        "id": "87Nk-Cf3cKAJ",
        "outputId": "93e2f154-55cb-4021-9594-d9965c0cc91a"
      },
      "execution_count": null,
      "outputs": [
        {
          "output_type": "stream",
          "name": "stdout",
          "text": [
            "I love programming.\n",
            "3\n",
            "I lveprgrmmngo oai.\n"
          ]
        }
      ]
    },
    {
      "cell_type": "code",
      "source": [
        "#Task 15 (****)\n",
        "def function_name(order_items,location='Dhanmondi'):\n",
        "    dict1={'\"Rice\"':105,'\"Potato\"':20,'\"Chicken\"':250,'\"Beef\"':510,'\"Oil\"':85}\n",
        "    dict2={}\n",
        "    sum=0\n",
        "    for keys, values in dict1.items():\n",
        "        for i in order_items:\n",
        "            if i in keys:\n",
        "                dict2[keys]=values\n",
        "                sum+=values\n",
        "    if location == 'Dhanmondi' or location=='':\n",
        "       sum=sum+30\n",
        "    else:\n",
        "        sum=sum+70\n",
        "    return sum\n",
        "\n",
        "order_items=list(input('Enter your list here: ')[1:-1].split(','))\n",
        "location=input('Enter your location here: ')\n",
        "result=function_name(order_items,location)\n",
        "print(result)"
      ],
      "metadata": {
        "colab": {
          "base_uri": "https://localhost:8080/"
        },
        "id": "qNOL894Rw057",
        "outputId": "d1477e4b-e50d-4047-ee61-ebc62c9ed97a"
      },
      "execution_count": null,
      "outputs": [
        {
          "output_type": "stream",
          "name": "stdout",
          "text": [
            "Enter your list here: 'Rice','Beef',''Rice\n",
            "Enter your location here: Mohakhali\n",
            "70\n"
          ]
        }
      ]
    },
    {
      "cell_type": "code",
      "source": [
        "#Task 15 (Pranjol)\n",
        "\n",
        "def function_name(order_items, location = \"Dhanmondi\"):\n",
        "    menu = {\"Rice\" : 105, \"Potato\" : 20, \"Chicken\" : 250, \"Beef\" : 510, \"Oil\" : 85}\n",
        "    total_price = 0\n",
        "    for i in order_items:\n",
        "        if i in menu.keys():\n",
        "            total_price += menu[i]\n",
        "\n",
        "    if location == \"Dhanmondi\":\n",
        "        total_price += 30\n",
        "    else:\n",
        "        total_price += 70\n",
        "\n",
        "    return total_price\n",
        "\n",
        "order = [i.strip(\" \").strip('\"') for i in input(\"Enter your order items: \")[1 : -1].split(\",\")]\n",
        "print(function_name(order))\n",
        "\n"
      ],
      "metadata": {
        "id": "lCMA5XvhVBvU",
        "colab": {
          "base_uri": "https://localhost:8080/"
        },
        "outputId": "7ac39fcb-8d15-4a5f-b214-47886a5d900b"
      },
      "execution_count": null,
      "outputs": [
        {
          "output_type": "stream",
          "name": "stdout",
          "text": [
            "Enter your order items: Rice,Beef,Rice\n",
            "540\n"
          ]
        }
      ]
    },
    {
      "cell_type": "code",
      "source": [
        "#Task 15\n",
        "def function_name(order_items,location='Dhanmondi'):\n",
        "    dict1={\"Rice\":105,\"Potato\":20,\"Chicken\":250,\"Beef\":510,\"Oil\":85}\n",
        "    dict2={}\n",
        "    sum=0\n",
        "    for keys, values in dict1.items():\n",
        "        for i in order_items:\n",
        "            if i in keys:\n",
        "                dict2[keys]=values\n",
        "                sum+=values\n",
        "    if location == 'Dhanmondi':\n",
        "       sum=sum+30\n",
        "    else:\n",
        "        sum=sum+70\n",
        "    print(dict2)\n",
        "    print(sum)\n",
        "\n",
        "function_name([\"Rice\", \"Beef\", \"Rice\"], \"Mohakhali\")\n",
        "function_name([\"Rice\", \"Beef\", \"Rice\"])"
      ],
      "metadata": {
        "colab": {
          "base_uri": "https://localhost:8080/"
        },
        "id": "AkwXbjWGfd95",
        "outputId": "358b0e4f-1d70-48ac-a58f-1a4eaedce592"
      },
      "execution_count": null,
      "outputs": [
        {
          "output_type": "stream",
          "name": "stdout",
          "text": [
            "{'Rice': 105, 'Beef': 510}\n",
            "790\n",
            "{'Rice': 105, 'Beef': 510}\n",
            "750\n"
          ]
        }
      ]
    },
    {
      "cell_type": "code",
      "source": [
        "#Task 16\n",
        "\n",
        "def splitting_money(amount):\n",
        "    notes = [500, 100, 50, 20, 10, 5, 2, 1]\n",
        "    retString = \"\"\n",
        "    noteCount = 0\n",
        "\n",
        "    for i in notes:\n",
        "        if amount == 0:\n",
        "            break\n",
        "        noteCount = amount // i\n",
        "\n",
        "        if noteCount == 0:\n",
        "            continue\n",
        "\n",
        "        amount %= i\n",
        "        retString += \"{} Taka: {} note(s)\\n\".format(i, noteCount)\n",
        "\n",
        "    return retString\n",
        "\n",
        "amount = int(input(\"Enter the amount of money: \"))\n",
        "store = splitting_money(amount)\n",
        "print(store)\n",
        "\n"
      ],
      "metadata": {
        "id": "FO_XK_aFuJNG"
      },
      "execution_count": null,
      "outputs": []
    },
    {
      "cell_type": "code",
      "source": [
        "#Task 17\n",
        "\n",
        "def remove_odd(mix):\n",
        "    even = []\n",
        "    for i in mix:\n",
        "        if i % 2 == 0:\n",
        "            even.append(i)\n",
        "\n",
        "    return even\n",
        "\n",
        "store = remove_odd ([11,2,3,4,5,2,0,5,3])\n",
        "print(store)"
      ],
      "metadata": {
        "id": "Pq5SaGQ5uQlP"
      },
      "execution_count": null,
      "outputs": []
    },
    {
      "cell_type": "code",
      "source": [
        "#Task 18\n",
        "\n",
        "\"\"\"\n",
        "starting value(inclusive)\n",
        "● ending value(exclusive)\n",
        "● first divisor\n",
        "● second divisor\n",
        "\"\"\"\n",
        "\n",
        "def function_name(s_value, e_value, f_divisor, s_divisor):\n",
        "    sum = 0\n",
        "\n",
        "    for i in range(s_value, e_value):\n",
        "        if i % f_divisor == 0 and i % s_divisor == 0:\n",
        "            pass\n",
        "        elif i % f_divisor == 0 or i % s_divisor == 0:\n",
        "            sum += i\n",
        "\n",
        "    return sum\n",
        "\n",
        "s_value = int(input(\"Enter your starting value: \"))\n",
        "e_value = int(input(\"Enter your ending value: \"))\n",
        "f_divisor = int(input(\"Enter the first divisor: \"))\n",
        "s_divisor = int(input(\"Enter the second divisor: \"))\n",
        "\n",
        "print(function_name(s_value, e_value, f_divisor, s_divisor))\n"
      ],
      "metadata": {
        "id": "l09jgcj-uUSP",
        "colab": {
          "base_uri": "https://localhost:8080/"
        },
        "outputId": "9759558e-b652-40fa-ad0c-f4ba8937eadb"
      },
      "execution_count": null,
      "outputs": [
        {
          "output_type": "stream",
          "name": "stdout",
          "text": [
            "Enter your starting value: 10\n",
            "Enter your ending value: 40\n",
            "Enter the first divisor: 4\n",
            "Enter the second divisor: 7\n",
            "210\n"
          ]
        }
      ]
    },
    {
      "cell_type": "code",
      "source": [
        "#Task 19\n",
        "\n",
        "def function_name(string):\n",
        "    result = 0\n",
        "    flag = True\n",
        "    for i in range(ord('a'), ord('j')):\n",
        "        if chr(i) not in string:\n",
        "            flag = False\n",
        "            break\n",
        "    if flag == True:\n",
        "        result = 5\n",
        "    else:\n",
        "        result = 6\n",
        "\n",
        "\n",
        "    return result\n",
        "\n",
        "string = input(\"Enter your string: \")\n",
        "result = function_name(string)\n",
        "print(\"PSG will win the Champions League this season\\n\" * result)"
      ],
      "metadata": {
        "id": "xGaR_XDDuVyG"
      },
      "execution_count": null,
      "outputs": []
    },
    {
      "cell_type": "code",
      "source": [
        "#Task 20\n",
        "\n",
        "\"\"\"\n",
        "● The player name\n",
        "● Yearly earning of that player\n",
        "● The total goal scored this season by that player\n",
        "● Bonus percent per goal.\n",
        "\"\"\"\n",
        "\n",
        "def individul_bonus_calculation(name, earning, goal, bonus_per):\n",
        "    total_bonus = goal * (bonus_per / 100) * earning\n",
        "    if 20 <= goal <= 30:\n",
        "        total_bonus += 5000\n",
        "    if goal > 30:\n",
        "        total_bonus += 10000\n",
        "\n",
        "    if total_bonus - int(total_bonus) == 0:\n",
        "        total_bonus = int(total_bonus)\n",
        "\n",
        "    print(\"{} earned a bonus of {} Taka for {} goals.\".format(name, total_bonus, goal))\n",
        "\n",
        "individul_bonus_calculation('Luis', 80000, 25, 10)\n"
      ],
      "metadata": {
        "id": "q7NWUtBmuXZn"
      },
      "execution_count": null,
      "outputs": []
    },
    {
      "cell_type": "code",
      "source": [
        "#Task 21\n",
        "\n",
        "def cal_bonus(*args):\n",
        "\n",
        "    total_cases = tuple(args[i : i + 4] for i in range(0, len(args), 4))\n",
        "    for i in total_cases:\n",
        "        name, earning, goal, bonus_per = i\n",
        "\n",
        "        total_bonus = goal * (bonus_per / 100) * earning\n",
        "        if 20 <= goal <= 30:\n",
        "            total_bonus += 5000\n",
        "        if goal > 30:\n",
        "            total_bonus += 10000\n",
        "\n",
        "        if total_bonus - int(total_bonus) == 0:\n",
        "            total_bonus = int(total_bonus)\n",
        "        print(\"{} earned a bonus of {} Taka for {} goals.\".format(name, total_bonus, goal))\n",
        "\n",
        "\n",
        "\n",
        "cal_bonus(\"Neymar\", 1200000, 35, 5, 'Jamal', 700000, 19, 8, 'Luis', 80000, 25, 10)\n",
        "    #print(\"{} earned a bonus of {} Taka for {} goals.\".format(name, total_bonus, goal))"
      ],
      "metadata": {
        "id": "4MVDigL6uY4W"
      },
      "execution_count": null,
      "outputs": []
    },
    {
      "cell_type": "markdown",
      "source": [
        " Task 8,9,15"
      ],
      "metadata": {
        "id": "6Vcrt9QMt_6Y"
      }
    },
    {
      "cell_type": "code",
      "source": [
        "# Task 9 (***)\n",
        "def area_circumference_generator(radius):\n",
        "  import math\n",
        "  circumference = 2*math.pi*radius\n",
        "  area= math.pi*radius**2\n",
        "  return (area,circumference)\n",
        "a=area_circumference_generator(1)\n",
        "print(a)\n",
        "area,circumference=a\n",
        "print(\"Area of the circle is {} and circumference is {}\".format(area,circumference))"
      ],
      "metadata": {
        "colab": {
          "base_uri": "https://localhost:8080/"
        },
        "id": "S-8jJHePuCf2",
        "outputId": "7d99b3b2-4b62-405b-877c-294805f62647"
      },
      "execution_count": null,
      "outputs": [
        {
          "output_type": "stream",
          "name": "stdout",
          "text": [
            "(3.141592653589793, 6.283185307179586)\n",
            "Area of the circle is 3.141592653589793 and circumference is 6.283185307179586\n"
          ]
        }
      ]
    },
    {
      "cell_type": "code",
      "source": [
        "def function_name(x):\n",
        "     alist=[]\n",
        "     adict={}\n",
        "     c=''\n",
        "     for i in x:\n",
        "      if i !=' ':\n",
        "         c+=i\n",
        "         for i in range(len(c)):\n",
        "            if c[i] not in alist:\n",
        "               alist.append(i)\n",
        "            else:\n",
        "               alist.append(i)\n",
        "         for f in range(len(alist)):\n",
        "             adict[c[i]]=alist[i]\n",
        "         return adict\n",
        "function_name('this is my first semester')"
      ],
      "metadata": {
        "colab": {
          "base_uri": "https://localhost:8080/"
        },
        "id": "xXNwkq9UAUQM",
        "outputId": "6fd030e2-fc76-4e8a-a300-9072c3fa54c1"
      },
      "execution_count": null,
      "outputs": [
        {
          "output_type": "execute_result",
          "data": {
            "text/plain": [
              "{'t': 0}"
            ]
          },
          "metadata": {},
          "execution_count": 32
        }
      ]
    }
  ]
}