{
  "cells": [
    {
      "cell_type": "markdown",
      "metadata": {
        "id": "view-in-github",
        "colab_type": "text"
      },
      "source": [
        "<a href=\"https://colab.research.google.com/github/Mashrur001/CSE110/blob/main/ASSIGNMENT_05.ipynb\" target=\"_parent\"><img src=\"https://colab.research.google.com/assets/colab-badge.svg\" alt=\"Open In Colab\"/></a>"
      ]
    },
    {
      "cell_type": "code",
      "source": [
        "#Task01\n",
        "lst = []\n",
        "for i in range(5):\n",
        "    ele = int(input())\n",
        "    lst.append(ele)\n",
        "    print(lst)"
      ],
      "metadata": {
        "id": "tP4q9yjwpuLF",
        "colab": {
          "base_uri": "https://localhost:8080/"
        },
        "outputId": "0c7f9f3e-c09c-416d-9da0-3f93c8025bfe"
      },
      "execution_count": null,
      "outputs": [
        {
          "output_type": "stream",
          "name": "stdout",
          "text": [
            "3\n",
            "[3]\n",
            "5\n",
            "[3, 5]\n",
            "34\n",
            "[3, 5, 34]\n",
            "-11\n",
            "[3, 5, 34, -11]\n",
            "0\n",
            "[3, 5, 34, -11, 0]\n"
          ]
        }
      ]
    },
    {
      "cell_type": "code",
      "source": [
        "#Task02\n",
        "lst_1=input().split(\", \")\n",
        "if len(lst_1)<4:\n",
        "  print(\"Not possible\")\n",
        "\n",
        "else:\n",
        "  #lst_2=lst_1[2:len(lst_1)-2]\n",
        "  lst_2=lst_1[2:-2]\n",
        "  print(lst_2)"
      ],
      "metadata": {
        "id": "NFz8kEl9puIM",
        "colab": {
          "base_uri": "https://localhost:8080/"
        },
        "outputId": "3037c4b1-8904-42bf-f440-eb1a4fc92df7"
      },
      "execution_count": null,
      "outputs": [
        {
          "output_type": "stream",
          "name": "stdout",
          "text": [
            "10, 20, 24, 25, 26, 35, 70\n",
            "['24', '25', '26']\n"
          ]
        }
      ]
    },
    {
      "cell_type": "code",
      "source": [
        "#Task02\n",
        "lst_1=input().split(\",\")\n",
        "print(lst_1)"
      ],
      "metadata": {
        "colab": {
          "base_uri": "https://localhost:8080/"
        },
        "outputId": "da5b0f5f-633a-4e4c-e699-6569bf3b65e4",
        "id": "HRBZRX06TKl_"
      },
      "execution_count": null,
      "outputs": [
        {
          "output_type": "stream",
          "name": "stdout",
          "text": [
            "10, 20, 24, 25, 26, 35, 70\n",
            "['10', ' 20', ' 24', ' 25', ' 26', ' 35', ' 70']\n"
          ]
        }
      ]
    },
    {
      "cell_type": "code",
      "source": [
        "#Task03\n",
        "lst=[]\n",
        "for i in range(5):\n",
        "  n=int(input())\n",
        "  lst.append(n)\n",
        "  print(lst)\n",
        "for i in range(len(lst)-1,-1,-1):\n",
        "  print(\"Printing values from the list in reverse order:\",lst[i])"
      ],
      "metadata": {
        "id": "2jGY_t_0puEd",
        "colab": {
          "base_uri": "https://localhost:8080/"
        },
        "outputId": "1d3efdf7-b8ac-496f-dc41-43e6f0df0312"
      },
      "execution_count": null,
      "outputs": [
        {
          "output_type": "stream",
          "name": "stdout",
          "text": [
            "1\n",
            "[1]\n",
            "2\n",
            "[1, 2]\n",
            "3\n",
            "[1, 2, 3]\n",
            "4\n",
            "[1, 2, 3, 4]\n",
            "5\n",
            "[1, 2, 3, 4, 5]\n",
            "Printing values from the list in reverse order: 5\n",
            "Printing values from the list in reverse order: 4\n",
            "Printing values from the list in reverse order: 3\n",
            "Printing values from the list in reverse order: 2\n",
            "Printing values from the list in reverse order: 1\n"
          ]
        }
      ]
    },
    {
      "cell_type": "code",
      "source": [
        "#Task04\n",
        "lst=[1, 2, 3, 4, 5, 6, 7]\n",
        "my_lst=[]\n",
        "for i in lst:\n",
        "  my_lst.append(i**2)\n",
        "print(my_lst)"
      ],
      "metadata": {
        "colab": {
          "base_uri": "https://localhost:8080/"
        },
        "id": "_iHWdFRu4Kuo",
        "outputId": "3080edbb-e82b-43b9-8c4a-830989f6c969"
      },
      "execution_count": null,
      "outputs": [
        {
          "output_type": "stream",
          "name": "stdout",
          "text": [
            "[1, 4, 9, 16, 25, 36, 49]\n"
          ]
        }
      ]
    },
    {
      "cell_type": "code",
      "source": [
        "#Task5\n",
        "given_lst=[\"hey\", \"there\", \"\", \"what's\", \"\", \"up\", \"\", \"?\"]\n",
        "print(f\"orginal lst:{given_lst}\")\n",
        "lst=[]\n",
        "for i in given_lst:\n",
        "  if i==\"\":\n",
        "    continue\n",
        "  else:\n",
        "    lst.append(i)\n",
        "    print(lst)\n",
        "print(f\"lst:{lst}\")"
      ],
      "metadata": {
        "colab": {
          "base_uri": "https://localhost:8080/"
        },
        "id": "8IGfRFLr6wQ9",
        "outputId": "916fb4c8-b544-4a3f-d473-f5040de20cba"
      },
      "execution_count": null,
      "outputs": [
        {
          "output_type": "stream",
          "name": "stdout",
          "text": [
            "orginal lst:['hey', 'there', '', \"what's\", '', 'up', '', '?']\n",
            "['hey']\n",
            "['hey', 'there']\n",
            "['hey', 'there', \"what's\"]\n",
            "['hey', 'there', \"what's\", 'up']\n",
            "['hey', 'there', \"what's\", 'up', '?']\n",
            "lst:['hey', 'there', \"what's\", 'up', '?']\n"
          ]
        }
      ]
    },
    {
      "cell_type": "code",
      "source": [
        "#Task5(related)\n",
        "lst=[\"hey\", \"there\", \"\", \"what's\", \"\", \"up\", \"\", \"?\"]\n",
        "new_lst =' '.join(lst).split()\n",
        "print(new_lst)"
      ],
      "metadata": {
        "colab": {
          "base_uri": "https://localhost:8080/"
        },
        "id": "x3vaje-csRWO",
        "outputId": "fa15c949-f4af-4e6d-d0d2-0918e0d7a892"
      },
      "execution_count": null,
      "outputs": [
        {
          "output_type": "stream",
          "name": "stdout",
          "text": [
            "['hey', 'there', \"what's\", 'up', '?']\n"
          ]
        }
      ]
    },
    {
      "cell_type": "code",
      "source": [
        "#Task6\n",
        "n=input().split(\",\")\n",
        "n_lst=[]\n",
        "for i in n:\n",
        "  n_lst.append(int(i))\n",
        "max = n_lst[0]\n",
        "max_idx = 0\n",
        "for i in range(len(n_lst)):\n",
        "    if n_lst[i]>max:\n",
        "      max=n_lst[i]\n",
        "      max_idx = i\n",
        "print(n_lst)\n",
        "print(f\"Largest number in the list is {max} which was found at {max_idx}\")"
      ],
      "metadata": {
        "colab": {
          "base_uri": "https://localhost:8080/"
        },
        "id": "qg69H9eO9f6H",
        "outputId": "e225d492-57ee-42d5-f2a0-13c5e59b2a80"
      },
      "execution_count": null,
      "outputs": [
        {
          "output_type": "stream",
          "name": "stdout",
          "text": [
            "7, 13, 2, 10, 6, -11, 0\n",
            "[7, 13, 2, 10, 6, -11, 0]\n",
            "Largest number in the list is 13 which was found at 1\n"
          ]
        }
      ]
    },
    {
      "cell_type": "code",
      "source": [
        "#Task07\n",
        "lst_1= [1, 4, 7, 5]\n",
        "lst_2= [6, 1, 3, 9]\n",
        "final_lst=[]\n",
        "\n",
        "for i in range(0,len(lst_1)+1,1):\n",
        "  if i==len(lst_1)-1:\n",
        "    lst_1.pop()\n",
        "for i in lst_1:\n",
        "  final_lst.append(i)\n",
        "for i in lst_2:\n",
        "  final_lst.append(i)\n",
        "print(final_lst)"
      ],
      "metadata": {
        "id": "7Xr6K0CWL2Re",
        "colab": {
          "base_uri": "https://localhost:8080/"
        },
        "outputId": "f2ad5dfc-b371-47ac-ee0f-08221a83d687"
      },
      "execution_count": null,
      "outputs": [
        {
          "output_type": "stream",
          "name": "stdout",
          "text": [
            "[1, 4, 7, 6, 1, 3, 9]\n"
          ]
        }
      ]
    },
    {
      "cell_type": "code",
      "source": [
        "#Task07\n",
        "list1=[1, 4, 7, 5]\n",
        "list2=[6, 1, 3, 9]\n",
        "lst=[]\n",
        "final_list=[]\n",
        "\n",
        "#for i in list1:\n",
        "lst=list1[0:-1]\n",
        "#final_list.append(i)\n",
        "final_list=lst+list2\n",
        "\n",
        "print(lst)\n",
        "print(final_list)"
      ],
      "metadata": {
        "colab": {
          "base_uri": "https://localhost:8080/"
        },
        "id": "-Ht1zAFYwPJ2",
        "outputId": "c3e7a264-45b4-4c04-cab0-2672d826c7c7"
      },
      "execution_count": null,
      "outputs": [
        {
          "output_type": "stream",
          "name": "stdout",
          "text": [
            "[1, 4, 7]\n",
            "[1, 4, 7, 6, 1, 3, 9]\n"
          ]
        }
      ]
    },
    {
      "cell_type": "code",
      "source": [
        "#Task08\n",
        "lst_1= [1, 2, 3, 4, 5, 6, 7, 8, 9]\n",
        "lst_2= [10, 11, 12, -13, -14, -15, -16]\n",
        "b=[]\n",
        "for i in lst_1:\n",
        "  if i%2==0:\n",
        "    b.append(i)\n",
        "for j in lst_2:\n",
        "  if j%2==0:\n",
        "    b.append(j)\n",
        "print(b)"
      ],
      "metadata": {
        "id": "4h36K4JRNE_6",
        "colab": {
          "base_uri": "https://localhost:8080/"
        },
        "outputId": "08d88b35-bbbf-48e0-e9a9-2744e2ec9126"
      },
      "execution_count": null,
      "outputs": [
        {
          "output_type": "stream",
          "name": "stdout",
          "text": [
            "[2, 4, 6, 8, 10, 12, -14, -16]\n"
          ]
        }
      ]
    },
    {
      "cell_type": "code",
      "source": [
        "#Practise\n",
        "player_list=['messi','ronaldo','neymar','bale',[1,2,3]]\n",
        "#player_list[2]='haland'\n",
        "#print(player_list)\n",
        "#player_list.append('Ramos')\n",
        "#print(player_list)\n",
        "#player_list.extend(['pique','casiaas'])\n",
        "#player_list.insert(3,'ramos')\n",
        "#del player_list[3]\n",
        "print(player_list)"
      ],
      "metadata": {
        "id": "17YYR0IP9f0Q",
        "colab": {
          "base_uri": "https://localhost:8080/"
        },
        "outputId": "d38ebc85-ea18-4b2b-efa0-c5f41ed3c068"
      },
      "execution_count": null,
      "outputs": [
        {
          "output_type": "stream",
          "name": "stdout",
          "text": [
            "['messi', 'ronaldo', 'neymar', 'bale', [1, 2, 3]]\n"
          ]
        }
      ]
    },
    {
      "cell_type": "code",
      "source": [
        "#Task09\n",
        "n=input()\n",
        "lst=[]\n",
        "s=\" \"\n",
        "for i in n:\n",
        "  if i==\" \":\n",
        "    lst.append(int(s))\n",
        "    s=\" \"\n",
        "  else:\n",
        "    s=s+i\n",
        "print(f\"Original List:{lst}\")\n",
        "lst1=[]\n",
        "for i in lst:\n",
        "  if i%2==1:\n",
        "    lst1.append(i)\n",
        "print(f\"Modified list:{lst1}\")"
      ],
      "metadata": {
        "colab": {
          "base_uri": "https://localhost:8080/"
        },
        "id": "UPaseZnrze3s",
        "outputId": "c54d847b-0945-4d7c-81b3-dce1aab887a7"
      },
      "execution_count": null,
      "outputs": [
        {
          "output_type": "stream",
          "name": "stdout",
          "text": [
            "7 12 4 55 96 2 11 61 33 42\n",
            "Original List:[7, 12, 4, 55, 96, 2, 11, 61, 33]\n",
            "Modified list:[7, 55, 11, 61, 33]\n"
          ]
        }
      ]
    },
    {
      "cell_type": "code",
      "source": [
        "#Task10\n",
        "n=input().split(\",\")\n",
        "print(f\"Input List:{n}\")\n",
        "lst=[]\n",
        "for i in n:\n",
        "  if i not in lst:\n",
        "    lst.append(i)\n",
        "print(f\"Modified list: {lst}\")"
      ],
      "metadata": {
        "colab": {
          "base_uri": "https://localhost:8080/"
        },
        "id": "TdCrc3vM6gUn",
        "outputId": "132263be-6043-4b80-9076-40fd9dda0e1c"
      },
      "execution_count": null,
      "outputs": [
        {
          "output_type": "stream",
          "name": "stdout",
          "text": [
            "0, 0, 1, 2, 3, 4, 4, 5, 6, 6, 6, 7, 8, 9, 4, 4\n",
            "Input List:['0', ' 0', ' 1', ' 2', ' 3', ' 4', ' 4', ' 5', ' 6', ' 6', ' 6', ' 7', ' 8', ' 9', ' 4', ' 4']\n",
            "Modified list: ['0', ' 0', ' 1', ' 2', ' 3', ' 4', ' 5', ' 6', ' 7', ' 8', ' 9']\n"
          ]
        }
      ]
    },
    {
      "cell_type": "code",
      "source": [
        "#Task11\n",
        "list_one = [1, 4, 3, 2, 6]\n",
        "list_two = [5, 6, 9, 8, 7]\n",
        "flag=False\n",
        "for i in list_one:\n",
        "  if i in list_two:\n",
        "    flag=True\n",
        "    break\n",
        "if flag==True:\n",
        "  print(\"True\")\n",
        "else:\n",
        "  print(\"False\")"
      ],
      "metadata": {
        "colab": {
          "base_uri": "https://localhost:8080/"
        },
        "id": "lODWeVCYEWbj",
        "outputId": "68877b8a-ab24-4f4b-9f9d-7dc4213882fc"
      },
      "execution_count": null,
      "outputs": [
        {
          "output_type": "stream",
          "name": "stdout",
          "text": [
            "True\n"
          ]
        }
      ]
    }
  ],
  "metadata": {
    "colab": {
      "provenance": [],
      "include_colab_link": true
    },
    "kernelspec": {
      "display_name": "Python 3",
      "name": "python3"
    }
  },
  "nbformat": 4,
  "nbformat_minor": 0
}