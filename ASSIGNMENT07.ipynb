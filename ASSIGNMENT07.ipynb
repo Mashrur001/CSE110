{
  "cells": [
    {
      "cell_type": "markdown",
      "metadata": {
        "id": "view-in-github",
        "colab_type": "text"
      },
      "source": [
        "<a href=\"https://colab.research.google.com/github/Mashrur001/CSE110/blob/main/ASSIGNMENT07.ipynb\" target=\"_parent\"><img src=\"https://colab.research.google.com/assets/colab-badge.svg\" alt=\"Open In Colab\"/></a>"
      ]
    },
    {
      "cell_type": "code",
      "source": [
        "#Task 1\n",
        "def even_odd(num):\n",
        "\n",
        "    #x = int(input(\"Please enter a number: \"))\n",
        "    #num = (x % 2)\n",
        "\n",
        "    if num == 0:\n",
        "        print('Even')\n",
        "    else:\n",
        "        print('Odd')\n",
        "even_odd(5)"
      ],
      "metadata": {
        "id": "vAFIh4Me7fqr",
        "colab": {
          "base_uri": "https://localhost:8080/"
        },
        "outputId": "d8afd5e5-58fc-49a0-c510-e971846f6de9"
      },
      "execution_count": null,
      "outputs": [
        {
          "output_type": "stream",
          "name": "stdout",
          "text": [
            "Odd\n"
          ]
        }
      ]
    },
    {
      "cell_type": "code",
      "source": [
        "#Task 2\n",
        "def fibonacci(limit):\n",
        "  a=0\n",
        "  b=1\n",
        "  c=0\n",
        "  while c < limit:\n",
        "    print(c,end=' ')\n",
        "    a=b\n",
        "    b=c\n",
        "    c=a+b\n",
        "fibonacci(10)"
      ],
      "metadata": {
        "id": "HcEya21XhsGR",
        "colab": {
          "base_uri": "https://localhost:8080/"
        },
        "outputId": "4b7af4ab-68b6-49e2-fa51-5dbbb77b13d5"
      },
      "execution_count": null,
      "outputs": [
        {
          "output_type": "stream",
          "name": "stdout",
          "text": [
            "0 1 1 2 3 5 8 "
          ]
        }
      ]
    },
    {
      "cell_type": "code",
      "source": [
        "#Task 3\n",
        "def foo_moo(num):\n",
        "    if num % 3 ==0 and num % 5 ==0:\n",
        "        return('FooMoo')\n",
        "    elif num % 3==0:\n",
        "        return('Foo')\n",
        "    elif num % 5==0:\n",
        "        return('Moo')\n",
        "    else:\n",
        "        return('Boo')\n",
        "foo_moo(5)\n",
        "foo_moo(3)\n",
        "foo_moo(15)\n",
        "foo_moo(2)"
      ],
      "metadata": {
        "colab": {
          "base_uri": "https://localhost:8080/",
          "height": 35
        },
        "id": "DtaQI9Nviptg",
        "outputId": "4b962185-0d64-4b71-d99a-f3562b74d797"
      },
      "execution_count": null,
      "outputs": [
        {
          "output_type": "execute_result",
          "data": {
            "text/plain": [
              "'Boo'"
            ],
            "application/vnd.google.colaboratory.intrinsic+json": {
              "type": "string"
            }
          },
          "metadata": {},
          "execution_count": 6
        }
      ]
    },
    {
      "cell_type": "code",
      "source": [
        "#Task 4\n",
        "def function_name(x):\n",
        "    c=''\n",
        "    lower=0\n",
        "    upper=0\n",
        "    for i in x:\n",
        "       if i != ' ':\n",
        "          c+=i\n",
        "    for i in c :\n",
        "       if 97 <= ord(i) <= 122:\n",
        "           lower+=1\n",
        "       else:\n",
        "           upper+=1\n",
        "    print('No. of Uppercase characters: ',upper)\n",
        "    print('No. of Lowercase characters: ',lower)\n",
        "x=input('Input: ')\n",
        "function_name(x)"
      ],
      "metadata": {
        "colab": {
          "base_uri": "https://localhost:8080/"
        },
        "id": "LAunp9mfjcM5",
        "outputId": "fe6bc89c-20a9-46ee-8c19-1fa36fbab615"
      },
      "execution_count": null,
      "outputs": [
        {
          "output_type": "stream",
          "name": "stdout",
          "text": [
            "Input: 'The quick Sand Man'\n",
            "No. of Uppercase characters:  5\n",
            "No. of Lowercase characters:  12\n"
          ]
        }
      ]
    },
    {
      "cell_type": "code",
      "source": [
        "#Task 5\n",
        "def calculate_tax(age,salary,desig):\n",
        "  if age < 18 or salary < 10000 or desig == 'president':\n",
        "    tax=0\n",
        "  elif salary < 10000 and salary >20000:\n",
        "    tax= salary*5/100\n",
        "  elif salary >20000:\n",
        "    tax=salary*10/100\n",
        "  return tax\n",
        "age=int(input('Enter your age: '))\n",
        "salary=float(input('Enter your salary: '))\n",
        "desig=input('Enter your Designation: ')\n",
        "print(calculate_tax(age,salary,desig))"
      ],
      "metadata": {
        "colab": {
          "base_uri": "https://localhost:8080/"
        },
        "id": "GUTHWu5SkmDH",
        "outputId": "daac6b1d-41b0-4257-aab7-ba154a964115"
      },
      "execution_count": null,
      "outputs": [
        {
          "output_type": "stream",
          "name": "stdout",
          "text": [
            "Enter your age: 16\n",
            "Enter your salary: 20000\n",
            "Enter your Designation: \"Student\"\n",
            "0\n"
          ]
        }
      ]
    },
    {
      "cell_type": "code",
      "source": [
        "#Task 6\n",
        "def  number_of_days(x):\n",
        "   year=x//365\n",
        "   r_y=x%365\n",
        "   month=r_y//30\n",
        "   r_m=r_y%30\n",
        "   day=r_m\n",
        "   print('{} years, {} months and {} days'.format(year,month,day))\n",
        "f=int(input())\n",
        "number_of_days(f)"
      ],
      "metadata": {
        "colab": {
          "base_uri": "https://localhost:8080/"
        },
        "id": "hBrSv7FHreV3",
        "outputId": "e4aa83d1-d246-4088-9407-b9cbbaa3ff65"
      },
      "execution_count": null,
      "outputs": [
        {
          "output_type": "stream",
          "name": "stdout",
          "text": [
            "365\n",
            "1 years, 0 months and 0 days\n"
          ]
        }
      ]
    },
    {
      "cell_type": "code",
      "source": [
        "#Task 7\n",
        "def show_palindrome(x):\n",
        "  add=''\n",
        "  add1=''\n",
        "  for i in range(1,x+1):\n",
        "    add+=str(i)\n",
        "  add1=add[-2::-1]\n",
        "  print(add,end='')\n",
        "  print(add1)\n",
        "show_palindrome(5)"
      ],
      "metadata": {
        "colab": {
          "base_uri": "https://localhost:8080/"
        },
        "id": "sUJ5rE2Us0i9",
        "outputId": "95c22331-0c8f-484b-ff81-f4634088b7c2"
      },
      "execution_count": null,
      "outputs": [
        {
          "output_type": "stream",
          "name": "stdout",
          "text": [
            "123454321\n"
          ]
        }
      ]
    },
    {
      "cell_type": "code",
      "source": [
        "#Task 8\n",
        "\n",
        "def show_palindromic_triangle(x):\n",
        "  x += 1\n",
        "  for i in range(x):\n",
        "    print(\" \" * 2 * (x - i - 1), end = \"\")\n",
        "    for j in range(1, i):\n",
        "      print(j, end = \" \")\n",
        "\n",
        "    for j in range(i, 0, -1):\n",
        "      print(j, end = \" \")\n",
        "    print()\n",
        "\n",
        "show_palindromic_triangle(5)"
      ],
      "metadata": {
        "colab": {
          "base_uri": "https://localhost:8080/"
        },
        "id": "5LmWOfcntNww",
        "outputId": "4bae0f5c-4ebb-4302-eacb-f4f59423129b"
      },
      "execution_count": null,
      "outputs": [
        {
          "output_type": "stream",
          "name": "stdout",
          "text": [
            "          \n",
            "        1 \n",
            "      1 2 1 \n",
            "    1 2 3 2 1 \n",
            "  1 2 3 4 3 2 1 \n",
            "1 2 3 4 5 4 3 2 1 \n"
          ]
        }
      ]
    },
    {
      "cell_type": "code",
      "source": [
        "#Task 9\n",
        "import math\n",
        "def area_circumference_generator(radius):\n",
        "  circumference = 2 * math.pi * radius\n",
        "  area = math.pi * (radius ** 2)\n",
        "\n",
        "  return circumference, area\n",
        "\n",
        "store = area_circumference_generator(1)\n",
        "#print(type(store))\n",
        "circumference, area = store\n",
        "print(tuple(store))\n",
        "\n",
        "print(\"Area of the circle is {} and circumference is {}\".format(circumference, area))"
      ],
      "metadata": {
        "colab": {
          "base_uri": "https://localhost:8080/"
        },
        "id": "vjQ1hKdhv7sB",
        "outputId": "283191a0-727f-4845-9e54-b502e4895324"
      },
      "execution_count": null,
      "outputs": [
        {
          "output_type": "stream",
          "name": "stdout",
          "text": [
            "(6.283185307179586, 3.141592653589793)\n",
            "Area of the circle is 6.283185307179586 and circumference is 3.141592653589793\n"
          ]
        }
      ]
    },
    {
      "cell_type": "code",
      "source": [
        "#Task 10\n",
        "def make_square(a_tuple):\n",
        "  i,j=a_tuple\n",
        "  a_dict={}\n",
        "  for c in range(i,j+1):\n",
        "      b=c**2\n",
        "      a_dict[c]=b\n",
        "  return a_dict\n",
        "print(make_square((5,9)))"
      ],
      "metadata": {
        "colab": {
          "base_uri": "https://localhost:8080/"
        },
        "id": "92gyWa8gwzLy",
        "outputId": "ab04b507-f3e9-497f-adee-2726a88b77d0"
      },
      "execution_count": null,
      "outputs": [
        {
          "output_type": "stream",
          "name": "stdout",
          "text": [
            "{5: 25, 6: 36, 7: 49, 8: 64, 9: 81}\n"
          ]
        }
      ]
    },
    {
      "cell_type": "code",
      "source": [
        "#Task 11\n",
        "def rem_duplicate(a_tuple):\n",
        "  a_list=[]\n",
        "  for i in a_tuple:\n",
        "    if i not in a_list:\n",
        "      a_list.append(i)\n",
        "      c=tuple(a_list)\n",
        "  return c\n",
        "print(rem_duplicate((\"Hi\", 1, 2, 3, 3, \"Hi\",'a', 'a', [1,2])))"
      ],
      "metadata": {
        "colab": {
          "base_uri": "https://localhost:8080/"
        },
        "id": "CufJ3tfbx5lx",
        "outputId": "55ae40a2-e514-469c-aada-b931638c676e"
      },
      "execution_count": null,
      "outputs": [
        {
          "output_type": "stream",
          "name": "stdout",
          "text": [
            "('Hi', 1, 2, 3, 'a', [1, 2])\n"
          ]
        }
      ]
    },
    {
      "cell_type": "code",
      "source": [
        "#Task 12\n",
        "def function_name(element):\n",
        "  alist=[]\n",
        "  c=0\n",
        "  for i in element:\n",
        "    if alist.count(i) < 2:\n",
        "      alist.append(i)\n",
        "    else:\n",
        "      c+=1\n",
        "  print('Removed: ',c)\n",
        "  return alist\n",
        "result = function_name(([1, 2, 3, 3, 3, 3, 4, 5, 8, 8]))\n",
        "print(result)"
      ],
      "metadata": {
        "colab": {
          "base_uri": "https://localhost:8080/"
        },
        "id": "tzq3ccMIyw-r",
        "outputId": "407aafc3-c72f-48e3-9556-a88d0a7b5127"
      },
      "execution_count": null,
      "outputs": [
        {
          "output_type": "stream",
          "name": "stdout",
          "text": [
            "Removed:  2\n",
            "[1, 2, 3, 3, 4, 5, 8, 8]\n"
          ]
        }
      ]
    },
    {
      "cell_type": "code",
      "source": [
        "#Task 13\n",
        "def calculation(operand,first,second):\n",
        "    if operand == '+':\n",
        "       operation=first+second\n",
        "    elif operand == '-':\n",
        "         operation=first-second\n",
        "    elif operand=='*':\n",
        "         operation=first*second\n",
        "    elif operand=='/':\n",
        "         operation=first/second\n",
        "    return operation\n",
        "\n",
        "operand=input('Enter your operators here: ')\n",
        "first=float(input('Enter your first number here: '))\n",
        "second=float(input('Enter your second number here: '))\n",
        "result = calculation(operand,first,second)\n",
        "print(result)"
      ],
      "metadata": {
        "colab": {
          "base_uri": "https://localhost:8080/",
          "height": 391
        },
        "id": "Ad6QSegzy1cz",
        "outputId": "a646c064-2b79-4f59-8c98-35924d8f5748"
      },
      "execution_count": null,
      "outputs": [
        {
          "name": "stdout",
          "output_type": "stream",
          "text": [
            "Enter your operators here: 222\n",
            "Enter your first number here: 58\n",
            "Enter your second number here: 966\n"
          ]
        },
        {
          "output_type": "error",
          "ename": "UnboundLocalError",
          "evalue": "ignored",
          "traceback": [
            "\u001b[0;31m---------------------------------------------------------------------------\u001b[0m",
            "\u001b[0;31mUnboundLocalError\u001b[0m                         Traceback (most recent call last)",
            "\u001b[0;32m<ipython-input-26-69a29959eb5a>\u001b[0m in \u001b[0;36m<module>\u001b[0;34m\u001b[0m\n\u001b[1;32m     14\u001b[0m \u001b[0mfirst\u001b[0m\u001b[0;34m=\u001b[0m\u001b[0mfloat\u001b[0m\u001b[0;34m(\u001b[0m\u001b[0minput\u001b[0m\u001b[0;34m(\u001b[0m\u001b[0;34m'Enter your first number here: '\u001b[0m\u001b[0;34m)\u001b[0m\u001b[0;34m)\u001b[0m\u001b[0;34m\u001b[0m\u001b[0;34m\u001b[0m\u001b[0m\n\u001b[1;32m     15\u001b[0m \u001b[0msecond\u001b[0m\u001b[0;34m=\u001b[0m\u001b[0mfloat\u001b[0m\u001b[0;34m(\u001b[0m\u001b[0minput\u001b[0m\u001b[0;34m(\u001b[0m\u001b[0;34m'Enter your second number here: '\u001b[0m\u001b[0;34m)\u001b[0m\u001b[0;34m)\u001b[0m\u001b[0;34m\u001b[0m\u001b[0;34m\u001b[0m\u001b[0m\n\u001b[0;32m---> 16\u001b[0;31m \u001b[0mresult\u001b[0m \u001b[0;34m=\u001b[0m \u001b[0mcalculation\u001b[0m\u001b[0;34m(\u001b[0m\u001b[0moperand\u001b[0m\u001b[0;34m,\u001b[0m\u001b[0mfirst\u001b[0m\u001b[0;34m,\u001b[0m\u001b[0msecond\u001b[0m\u001b[0;34m)\u001b[0m\u001b[0;34m\u001b[0m\u001b[0;34m\u001b[0m\u001b[0m\n\u001b[0m\u001b[1;32m     17\u001b[0m \u001b[0mprint\u001b[0m\u001b[0;34m(\u001b[0m\u001b[0mresult\u001b[0m\u001b[0;34m)\u001b[0m\u001b[0;34m\u001b[0m\u001b[0;34m\u001b[0m\u001b[0m\n",
            "\u001b[0;32m<ipython-input-26-69a29959eb5a>\u001b[0m in \u001b[0;36mcalculation\u001b[0;34m(operand, first, second)\u001b[0m\n\u001b[1;32m      9\u001b[0m     \u001b[0;32melif\u001b[0m \u001b[0moperand\u001b[0m\u001b[0;34m==\u001b[0m\u001b[0;34m'/'\u001b[0m\u001b[0;34m:\u001b[0m\u001b[0;34m\u001b[0m\u001b[0;34m\u001b[0m\u001b[0m\n\u001b[1;32m     10\u001b[0m          \u001b[0moperation\u001b[0m\u001b[0;34m=\u001b[0m\u001b[0mfirst\u001b[0m\u001b[0;34m/\u001b[0m\u001b[0msecond\u001b[0m\u001b[0;34m\u001b[0m\u001b[0;34m\u001b[0m\u001b[0m\n\u001b[0;32m---> 11\u001b[0;31m     \u001b[0;32mreturn\u001b[0m \u001b[0moperation\u001b[0m\u001b[0;34m\u001b[0m\u001b[0;34m\u001b[0m\u001b[0m\n\u001b[0m\u001b[1;32m     12\u001b[0m \u001b[0;34m\u001b[0m\u001b[0m\n\u001b[1;32m     13\u001b[0m \u001b[0moperand\u001b[0m\u001b[0;34m=\u001b[0m\u001b[0minput\u001b[0m\u001b[0;34m(\u001b[0m\u001b[0;34m'Enter your operators here: '\u001b[0m\u001b[0;34m)\u001b[0m\u001b[0;34m\u001b[0m\u001b[0;34m\u001b[0m\u001b[0m\n",
            "\u001b[0;31mUnboundLocalError\u001b[0m: local variable 'operation' referenced before assignment"
          ]
        }
      ]
    },
    {
      "cell_type": "code",
      "source": [
        "#Task 14\n",
        "def funcrion_name(sentence,position):\n",
        "    add1=''\n",
        "    add2=''\n",
        "    for i in range(len(sentence)):\n",
        "        if i ==0:\n",
        "            add1+=sentence[i]\n",
        "        elif i % position !=0:\n",
        "            add1+=sentence[i]\n",
        "        else:\n",
        "            add2+=sentence[i]\n",
        "    return add1+add2\n",
        "\n",
        "sentence=input()\n",
        "position=int(input())\n",
        "result=funcrion_name(sentence,position)\n",
        "print(result)"
      ],
      "metadata": {
        "id": "jNVyUz0S0w4_"
      },
      "execution_count": null,
      "outputs": []
    }
  ],
  "metadata": {
    "colab": {
      "provenance": [],
      "include_colab_link": true
    },
    "kernelspec": {
      "display_name": "Python 3",
      "name": "python3"
    }
  },
  "nbformat": 4,
  "nbformat_minor": 0
}